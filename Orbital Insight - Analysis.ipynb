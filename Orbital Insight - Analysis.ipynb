{
 "cells": [
  {
   "cell_type": "markdown",
   "metadata": {},
   "source": [
    "# Orbital Insight\n",
    "\n",
    "Orbital Insight Energy provides access to global and regional crude oil volume estimates, monitoring over 5 billion barrels of oil storage capacity across more than 25,000 tanks. The data covers 48 months of historical storage site, country and regional level measurements as well as 49 regions, including OPEC and China.\n",
    "\n",
    "For more information: http://www.cmegroup.com/market-data/orbital-insight.html"
   ]
  },
  {
   "cell_type": "markdown",
   "metadata": {},
   "source": [
    "In this blog article, we will show how we can track crude oil futures price changes after crude oil storage volume changes using a simple Python methodology. This blog is written to introduce the format of both Orbital Insight and CME Group futures data and how it can be used for data analysis. This is not suggesting any trade ideas or strategies."
   ]
  },
  {
   "cell_type": "code",
   "execution_count": 56,
   "metadata": {
    "collapsed": true
   },
   "outputs": [],
   "source": [
    "import pandas as pd\n",
    "import numpy as np\n",
    "import datetime\n",
    "import matplotlib\n",
    "import matplotlib.pyplot as plt\n",
    "import seaborn as sns\n",
    "import warnings\n",
    "warnings.filterwarnings('ignore')\n",
    "\n",
    "%matplotlib inline"
   ]
  },
  {
   "cell_type": "markdown",
   "metadata": {},
   "source": [
    "## Load CME Crude Oil Futures Settlement Prices\n",
    "NYMEX WTI Crude Oil futures(CL) historical(1/2/18-present) settlement data"
   ]
  },
  {
   "cell_type": "code",
   "execution_count": 57,
   "metadata": {
    "collapsed": true
   },
   "outputs": [],
   "source": [
    "df_sett = pd.read_csv('./data/CrudeSettleHistorical.csv', index_col='Settlement Date', parse_dates=True )"
   ]
  },
  {
   "cell_type": "code",
   "execution_count": 58,
   "metadata": {
    "collapsed": false
   },
   "outputs": [
    {
     "data": {
      "text/html": [
       "<div>\n",
       "<style scoped>\n",
       "    .dataframe tbody tr th:only-of-type {\n",
       "        vertical-align: middle;\n",
       "    }\n",
       "\n",
       "    .dataframe tbody tr th {\n",
       "        vertical-align: top;\n",
       "    }\n",
       "\n",
       "    .dataframe thead th {\n",
       "        text-align: right;\n",
       "    }\n",
       "</style>\n",
       "<table border=\"1\" class=\"dataframe\">\n",
       "  <thead>\n",
       "    <tr style=\"text-align: right;\">\n",
       "      <th></th>\n",
       "      <th>Product</th>\n",
       "      <th>Contract</th>\n",
       "      <th>Settlement</th>\n",
       "    </tr>\n",
       "    <tr>\n",
       "      <th>Settlement Date</th>\n",
       "      <th></th>\n",
       "      <th></th>\n",
       "      <th></th>\n",
       "    </tr>\n",
       "  </thead>\n",
       "  <tbody>\n",
       "    <tr>\n",
       "      <th>2013-01-02</th>\n",
       "      <td>CL</td>\n",
       "      <td>CLG13</td>\n",
       "      <td>93.12</td>\n",
       "    </tr>\n",
       "    <tr>\n",
       "      <th>2013-01-02</th>\n",
       "      <td>CL</td>\n",
       "      <td>CLH13</td>\n",
       "      <td>93.55</td>\n",
       "    </tr>\n",
       "    <tr>\n",
       "      <th>2013-01-02</th>\n",
       "      <td>CL</td>\n",
       "      <td>CLJ13</td>\n",
       "      <td>93.97</td>\n",
       "    </tr>\n",
       "    <tr>\n",
       "      <th>2013-01-02</th>\n",
       "      <td>CL</td>\n",
       "      <td>CLK13</td>\n",
       "      <td>94.33</td>\n",
       "    </tr>\n",
       "    <tr>\n",
       "      <th>2013-01-02</th>\n",
       "      <td>CL</td>\n",
       "      <td>CLM13</td>\n",
       "      <td>94.60</td>\n",
       "    </tr>\n",
       "  </tbody>\n",
       "</table>\n",
       "</div>"
      ],
      "text/plain": [
       "                Product Contract  Settlement\n",
       "Settlement Date                             \n",
       "2013-01-02           CL    CLG13       93.12\n",
       "2013-01-02           CL    CLH13       93.55\n",
       "2013-01-02           CL    CLJ13       93.97\n",
       "2013-01-02           CL    CLK13       94.33\n",
       "2013-01-02           CL    CLM13       94.60"
      ]
     },
     "execution_count": 58,
     "metadata": {},
     "output_type": "execute_result"
    }
   ],
   "source": [
    "df_sett.head()"
   ]
  },
  {
   "cell_type": "markdown",
   "metadata": {},
   "source": [
    "Futures markets generally use symbology to indicate a specific month and year a given contract will expire.  Learn about contract codes at https://www.investopedia.com/articles/active-trading/011515/quick-guide-futures-quotes.asp"
   ]
  },
  {
   "cell_type": "code",
   "execution_count": 59,
   "metadata": {
    "collapsed": false
   },
   "outputs": [],
   "source": [
    "# split contract month and product symbol from 'Contract' column and create 'Cont' column.\n",
    "df_sett['Cont'] = df_sett['Contract'].str[-2:] + df_sett['Contract'].str[2]"
   ]
  },
  {
   "cell_type": "code",
   "execution_count": 60,
   "metadata": {
    "collapsed": false
   },
   "outputs": [
    {
     "data": {
      "text/html": [
       "<div>\n",
       "<style scoped>\n",
       "    .dataframe tbody tr th:only-of-type {\n",
       "        vertical-align: middle;\n",
       "    }\n",
       "\n",
       "    .dataframe tbody tr th {\n",
       "        vertical-align: top;\n",
       "    }\n",
       "\n",
       "    .dataframe thead th {\n",
       "        text-align: right;\n",
       "    }\n",
       "</style>\n",
       "<table border=\"1\" class=\"dataframe\">\n",
       "  <thead>\n",
       "    <tr style=\"text-align: right;\">\n",
       "      <th></th>\n",
       "      <th>Product</th>\n",
       "      <th>Contract</th>\n",
       "      <th>Settlement</th>\n",
       "      <th>Cont</th>\n",
       "    </tr>\n",
       "    <tr>\n",
       "      <th>Settlement Date</th>\n",
       "      <th></th>\n",
       "      <th></th>\n",
       "      <th></th>\n",
       "      <th></th>\n",
       "    </tr>\n",
       "  </thead>\n",
       "  <tbody>\n",
       "    <tr>\n",
       "      <th>2013-01-02</th>\n",
       "      <td>CL</td>\n",
       "      <td>CLG13</td>\n",
       "      <td>93.12</td>\n",
       "      <td>13G</td>\n",
       "    </tr>\n",
       "    <tr>\n",
       "      <th>2013-01-02</th>\n",
       "      <td>CL</td>\n",
       "      <td>CLH13</td>\n",
       "      <td>93.55</td>\n",
       "      <td>13H</td>\n",
       "    </tr>\n",
       "    <tr>\n",
       "      <th>2013-01-02</th>\n",
       "      <td>CL</td>\n",
       "      <td>CLJ13</td>\n",
       "      <td>93.97</td>\n",
       "      <td>13J</td>\n",
       "    </tr>\n",
       "    <tr>\n",
       "      <th>2013-01-02</th>\n",
       "      <td>CL</td>\n",
       "      <td>CLK13</td>\n",
       "      <td>94.33</td>\n",
       "      <td>13K</td>\n",
       "    </tr>\n",
       "    <tr>\n",
       "      <th>2013-01-02</th>\n",
       "      <td>CL</td>\n",
       "      <td>CLM13</td>\n",
       "      <td>94.60</td>\n",
       "      <td>13M</td>\n",
       "    </tr>\n",
       "  </tbody>\n",
       "</table>\n",
       "</div>"
      ],
      "text/plain": [
       "                Product Contract  Settlement Cont\n",
       "Settlement Date                                  \n",
       "2013-01-02           CL    CLG13       93.12  13G\n",
       "2013-01-02           CL    CLH13       93.55  13H\n",
       "2013-01-02           CL    CLJ13       93.97  13J\n",
       "2013-01-02           CL    CLK13       94.33  13K\n",
       "2013-01-02           CL    CLM13       94.60  13M"
      ]
     },
     "execution_count": 60,
     "metadata": {},
     "output_type": "execute_result"
    }
   ],
   "source": [
    "df_sett.head()"
   ]
  },
  {
   "cell_type": "markdown",
   "metadata": {},
   "source": [
    "## Finding N-th Nearby Contract Month"
   ]
  },
  {
   "cell_type": "markdown",
   "metadata": {},
   "source": [
    "Finding n-th nearby contract of each trading date is challenging with settlement data in flat format. In this section, we will find n-th nearby contract month and its settlement price without futures expiration schedule.   "
   ]
  },
  {
   "cell_type": "code",
   "execution_count": 61,
   "metadata": {
    "collapsed": true
   },
   "outputs": [],
   "source": [
    "sett_pivot = pd.pivot_table(df_sett, index=df_sett.index, columns='Cont', values='Settlement')"
   ]
  },
  {
   "cell_type": "code",
   "execution_count": 62,
   "metadata": {
    "collapsed": false
   },
   "outputs": [
    {
     "data": {
      "text/html": [
       "<div>\n",
       "<style scoped>\n",
       "    .dataframe tbody tr th:only-of-type {\n",
       "        vertical-align: middle;\n",
       "    }\n",
       "\n",
       "    .dataframe tbody tr th {\n",
       "        vertical-align: top;\n",
       "    }\n",
       "\n",
       "    .dataframe thead th {\n",
       "        text-align: right;\n",
       "    }\n",
       "</style>\n",
       "<table border=\"1\" class=\"dataframe\">\n",
       "  <thead>\n",
       "    <tr style=\"text-align: right;\">\n",
       "      <th>Cont</th>\n",
       "      <th>13G</th>\n",
       "      <th>13H</th>\n",
       "      <th>13J</th>\n",
       "      <th>13K</th>\n",
       "      <th>13M</th>\n",
       "      <th>13N</th>\n",
       "      <th>13Q</th>\n",
       "      <th>13U</th>\n",
       "      <th>13V</th>\n",
       "      <th>13X</th>\n",
       "      <th>...</th>\n",
       "      <th>26K</th>\n",
       "      <th>26M</th>\n",
       "      <th>26N</th>\n",
       "      <th>26Q</th>\n",
       "      <th>26U</th>\n",
       "      <th>26V</th>\n",
       "      <th>26X</th>\n",
       "      <th>26Z</th>\n",
       "      <th>27F</th>\n",
       "      <th>27G</th>\n",
       "    </tr>\n",
       "    <tr>\n",
       "      <th>Settlement Date</th>\n",
       "      <th></th>\n",
       "      <th></th>\n",
       "      <th></th>\n",
       "      <th></th>\n",
       "      <th></th>\n",
       "      <th></th>\n",
       "      <th></th>\n",
       "      <th></th>\n",
       "      <th></th>\n",
       "      <th></th>\n",
       "      <th></th>\n",
       "      <th></th>\n",
       "      <th></th>\n",
       "      <th></th>\n",
       "      <th></th>\n",
       "      <th></th>\n",
       "      <th></th>\n",
       "      <th></th>\n",
       "      <th></th>\n",
       "      <th></th>\n",
       "      <th></th>\n",
       "    </tr>\n",
       "  </thead>\n",
       "  <tbody>\n",
       "    <tr>\n",
       "      <th>2013-01-02</th>\n",
       "      <td>93.12</td>\n",
       "      <td>93.55</td>\n",
       "      <td>93.97</td>\n",
       "      <td>94.33</td>\n",
       "      <td>94.60</td>\n",
       "      <td>94.76</td>\n",
       "      <td>94.78</td>\n",
       "      <td>94.69</td>\n",
       "      <td>94.51</td>\n",
       "      <td>94.33</td>\n",
       "      <td>...</td>\n",
       "      <td>NaN</td>\n",
       "      <td>NaN</td>\n",
       "      <td>NaN</td>\n",
       "      <td>NaN</td>\n",
       "      <td>NaN</td>\n",
       "      <td>NaN</td>\n",
       "      <td>NaN</td>\n",
       "      <td>NaN</td>\n",
       "      <td>NaN</td>\n",
       "      <td>NaN</td>\n",
       "    </tr>\n",
       "    <tr>\n",
       "      <th>2013-01-03</th>\n",
       "      <td>92.92</td>\n",
       "      <td>93.34</td>\n",
       "      <td>93.76</td>\n",
       "      <td>94.12</td>\n",
       "      <td>94.39</td>\n",
       "      <td>94.55</td>\n",
       "      <td>94.56</td>\n",
       "      <td>94.46</td>\n",
       "      <td>94.27</td>\n",
       "      <td>94.07</td>\n",
       "      <td>...</td>\n",
       "      <td>NaN</td>\n",
       "      <td>NaN</td>\n",
       "      <td>NaN</td>\n",
       "      <td>NaN</td>\n",
       "      <td>NaN</td>\n",
       "      <td>NaN</td>\n",
       "      <td>NaN</td>\n",
       "      <td>NaN</td>\n",
       "      <td>NaN</td>\n",
       "      <td>NaN</td>\n",
       "    </tr>\n",
       "    <tr>\n",
       "      <th>2013-01-04</th>\n",
       "      <td>93.09</td>\n",
       "      <td>93.51</td>\n",
       "      <td>93.91</td>\n",
       "      <td>94.21</td>\n",
       "      <td>94.40</td>\n",
       "      <td>94.51</td>\n",
       "      <td>94.48</td>\n",
       "      <td>94.36</td>\n",
       "      <td>94.15</td>\n",
       "      <td>93.93</td>\n",
       "      <td>...</td>\n",
       "      <td>NaN</td>\n",
       "      <td>NaN</td>\n",
       "      <td>NaN</td>\n",
       "      <td>NaN</td>\n",
       "      <td>NaN</td>\n",
       "      <td>NaN</td>\n",
       "      <td>NaN</td>\n",
       "      <td>NaN</td>\n",
       "      <td>NaN</td>\n",
       "      <td>NaN</td>\n",
       "    </tr>\n",
       "    <tr>\n",
       "      <th>2013-01-07</th>\n",
       "      <td>93.19</td>\n",
       "      <td>93.63</td>\n",
       "      <td>94.02</td>\n",
       "      <td>94.33</td>\n",
       "      <td>94.54</td>\n",
       "      <td>94.67</td>\n",
       "      <td>94.67</td>\n",
       "      <td>94.57</td>\n",
       "      <td>94.38</td>\n",
       "      <td>94.18</td>\n",
       "      <td>...</td>\n",
       "      <td>NaN</td>\n",
       "      <td>NaN</td>\n",
       "      <td>NaN</td>\n",
       "      <td>NaN</td>\n",
       "      <td>NaN</td>\n",
       "      <td>NaN</td>\n",
       "      <td>NaN</td>\n",
       "      <td>NaN</td>\n",
       "      <td>NaN</td>\n",
       "      <td>NaN</td>\n",
       "    </tr>\n",
       "    <tr>\n",
       "      <th>2013-01-08</th>\n",
       "      <td>93.15</td>\n",
       "      <td>93.60</td>\n",
       "      <td>94.02</td>\n",
       "      <td>94.38</td>\n",
       "      <td>94.65</td>\n",
       "      <td>94.81</td>\n",
       "      <td>94.84</td>\n",
       "      <td>94.77</td>\n",
       "      <td>94.62</td>\n",
       "      <td>94.44</td>\n",
       "      <td>...</td>\n",
       "      <td>NaN</td>\n",
       "      <td>NaN</td>\n",
       "      <td>NaN</td>\n",
       "      <td>NaN</td>\n",
       "      <td>NaN</td>\n",
       "      <td>NaN</td>\n",
       "      <td>NaN</td>\n",
       "      <td>NaN</td>\n",
       "      <td>NaN</td>\n",
       "      <td>NaN</td>\n",
       "    </tr>\n",
       "  </tbody>\n",
       "</table>\n",
       "<p>5 rows × 169 columns</p>\n",
       "</div>"
      ],
      "text/plain": [
       "Cont               13G    13H    13J    13K    13M    13N    13Q    13U  \\\n",
       "Settlement Date                                                           \n",
       "2013-01-02       93.12  93.55  93.97  94.33  94.60  94.76  94.78  94.69   \n",
       "2013-01-03       92.92  93.34  93.76  94.12  94.39  94.55  94.56  94.46   \n",
       "2013-01-04       93.09  93.51  93.91  94.21  94.40  94.51  94.48  94.36   \n",
       "2013-01-07       93.19  93.63  94.02  94.33  94.54  94.67  94.67  94.57   \n",
       "2013-01-08       93.15  93.60  94.02  94.38  94.65  94.81  94.84  94.77   \n",
       "\n",
       "Cont               13V    13X ...   26K  26M  26N  26Q  26U  26V  26X  26Z  \\\n",
       "Settlement Date               ...                                            \n",
       "2013-01-02       94.51  94.33 ...   NaN  NaN  NaN  NaN  NaN  NaN  NaN  NaN   \n",
       "2013-01-03       94.27  94.07 ...   NaN  NaN  NaN  NaN  NaN  NaN  NaN  NaN   \n",
       "2013-01-04       94.15  93.93 ...   NaN  NaN  NaN  NaN  NaN  NaN  NaN  NaN   \n",
       "2013-01-07       94.38  94.18 ...   NaN  NaN  NaN  NaN  NaN  NaN  NaN  NaN   \n",
       "2013-01-08       94.62  94.44 ...   NaN  NaN  NaN  NaN  NaN  NaN  NaN  NaN   \n",
       "\n",
       "Cont             27F  27G  \n",
       "Settlement Date            \n",
       "2013-01-02       NaN  NaN  \n",
       "2013-01-03       NaN  NaN  \n",
       "2013-01-04       NaN  NaN  \n",
       "2013-01-07       NaN  NaN  \n",
       "2013-01-08       NaN  NaN  \n",
       "\n",
       "[5 rows x 169 columns]"
      ]
     },
     "execution_count": 62,
     "metadata": {},
     "output_type": "execute_result"
    }
   ],
   "source": [
    "sett_pivot.head()"
   ]
  },
  {
   "cell_type": "markdown",
   "metadata": {},
   "source": [
    "#### Finding N-th nearby contract for each trading date from the pivot table"
   ]
  },
  {
   "cell_type": "code",
   "execution_count": 63,
   "metadata": {
    "collapsed": true
   },
   "outputs": [],
   "source": [
    "# function: getting n-th nearby contract settlement price\n",
    "\n",
    "def n_nearby(x,n):\n",
    "    if x.first_valid_index() is None:\n",
    "        return None\n",
    "    else:\n",
    "        return x[x.index[x.index.get_loc(x.first_valid_index())+n]]"
   ]
  },
  {
   "cell_type": "code",
   "execution_count": 64,
   "metadata": {
    "collapsed": true
   },
   "outputs": [],
   "source": [
    "# function: getting n-th nearby contract settlement price and contract month\n",
    "\n",
    "def n_nearby_mon(x,n):\n",
    "    if x.first_valid_index() is None:\n",
    "        return None\n",
    "    else:\n",
    "        return x[x.index[x.index.get_loc(x.first_valid_index())+n]], x.index[x.index.get_loc(x.first_valid_index())+n]"
   ]
  },
  {
   "cell_type": "code",
   "execution_count": 65,
   "metadata": {
    "collapsed": true
   },
   "outputs": [],
   "source": [
    "# front month contract price\n",
    "sett_pivot['N1'] = sett_pivot.apply(lambda row: n_nearby(row,0), axis=1)\n",
    "\n",
    "# 2nd nearby contract price\n",
    "sett_pivot['N2'] = sett_pivot.apply(lambda row: n_nearby(row,1), axis=1)\n",
    "\n",
    "# 3rd nearby contract price\n",
    "sett_pivot['N3'] = sett_pivot.apply(lambda row: n_nearby(row,2), axis=1)\n",
    "\n",
    "# 6th nearby contract price\n",
    "sett_pivot['N6'] = sett_pivot.apply(lambda row: n_nearby(row,5), axis=1)\n",
    "\n",
    "# You can continue to do this for any contract months your trying to pull into your analysis."
   ]
  },
  {
   "cell_type": "markdown",
   "metadata": {},
   "source": [
    "The resulting output from this step is the nearest expiration month of crude oil (N1), the next nearest month (N2), the third nearest month (N3), and the sixth nearest month (N6) "
   ]
  },
  {
   "cell_type": "code",
   "execution_count": 66,
   "metadata": {
    "collapsed": false
   },
   "outputs": [
    {
     "data": {
      "text/html": [
       "<div>\n",
       "<style scoped>\n",
       "    .dataframe tbody tr th:only-of-type {\n",
       "        vertical-align: middle;\n",
       "    }\n",
       "\n",
       "    .dataframe tbody tr th {\n",
       "        vertical-align: top;\n",
       "    }\n",
       "\n",
       "    .dataframe thead th {\n",
       "        text-align: right;\n",
       "    }\n",
       "</style>\n",
       "<table border=\"1\" class=\"dataframe\">\n",
       "  <thead>\n",
       "    <tr style=\"text-align: right;\">\n",
       "      <th>Cont</th>\n",
       "      <th>N1</th>\n",
       "      <th>N2</th>\n",
       "      <th>N3</th>\n",
       "      <th>N6</th>\n",
       "    </tr>\n",
       "    <tr>\n",
       "      <th>Settlement Date</th>\n",
       "      <th></th>\n",
       "      <th></th>\n",
       "      <th></th>\n",
       "      <th></th>\n",
       "    </tr>\n",
       "  </thead>\n",
       "  <tbody>\n",
       "    <tr>\n",
       "      <th>2013-01-02</th>\n",
       "      <td>93.12</td>\n",
       "      <td>93.55</td>\n",
       "      <td>93.97</td>\n",
       "      <td>94.76</td>\n",
       "    </tr>\n",
       "    <tr>\n",
       "      <th>2013-01-03</th>\n",
       "      <td>92.92</td>\n",
       "      <td>93.34</td>\n",
       "      <td>93.76</td>\n",
       "      <td>94.55</td>\n",
       "    </tr>\n",
       "    <tr>\n",
       "      <th>2013-01-04</th>\n",
       "      <td>93.09</td>\n",
       "      <td>93.51</td>\n",
       "      <td>93.91</td>\n",
       "      <td>94.51</td>\n",
       "    </tr>\n",
       "    <tr>\n",
       "      <th>2013-01-07</th>\n",
       "      <td>93.19</td>\n",
       "      <td>93.63</td>\n",
       "      <td>94.02</td>\n",
       "      <td>94.67</td>\n",
       "    </tr>\n",
       "    <tr>\n",
       "      <th>2013-01-08</th>\n",
       "      <td>93.15</td>\n",
       "      <td>93.60</td>\n",
       "      <td>94.02</td>\n",
       "      <td>94.81</td>\n",
       "    </tr>\n",
       "  </tbody>\n",
       "</table>\n",
       "</div>"
      ],
      "text/plain": [
       "Cont                N1     N2     N3     N6\n",
       "Settlement Date                            \n",
       "2013-01-02       93.12  93.55  93.97  94.76\n",
       "2013-01-03       92.92  93.34  93.76  94.55\n",
       "2013-01-04       93.09  93.51  93.91  94.51\n",
       "2013-01-07       93.19  93.63  94.02  94.67\n",
       "2013-01-08       93.15  93.60  94.02  94.81"
      ]
     },
     "execution_count": 66,
     "metadata": {},
     "output_type": "execute_result"
    }
   ],
   "source": [
    "sett_pivot[['N1','N2','N3','N6']].head()"
   ]
  },
  {
   "cell_type": "markdown",
   "metadata": {},
   "source": [
    "Now let's pair the nearest month prices with the respective contract indicators into a tuple"
   ]
  },
  {
   "cell_type": "code",
   "execution_count": 67,
   "metadata": {
    "collapsed": true
   },
   "outputs": [],
   "source": [
    "# getting 1~6 nearby contract months and prices\n",
    "sett_pivot['1nb mon'] = sett_pivot.apply(lambda row: n_nearby_mon(row,0), axis=1)\n",
    "sett_pivot['2nb mon'] = sett_pivot.apply(lambda row: n_nearby_mon(row,1), axis=1)\n",
    "sett_pivot['3nb mon'] = sett_pivot.apply(lambda row: n_nearby_mon(row,2), axis=1)\n",
    "sett_pivot['6nb mon'] = sett_pivot.apply(lambda row: n_nearby_mon(row,5), axis=1)"
   ]
  },
  {
   "cell_type": "markdown",
   "metadata": {},
   "source": [
    "You can see on the 23rd of January, the nearest month switched from February (G) to March (H).  The second, third and sixth nearby months also shift accordingly."
   ]
  },
  {
   "cell_type": "code",
   "execution_count": 68,
   "metadata": {
    "collapsed": false
   },
   "outputs": [
    {
     "data": {
      "text/html": [
       "<div>\n",
       "<style scoped>\n",
       "    .dataframe tbody tr th:only-of-type {\n",
       "        vertical-align: middle;\n",
       "    }\n",
       "\n",
       "    .dataframe tbody tr th {\n",
       "        vertical-align: top;\n",
       "    }\n",
       "\n",
       "    .dataframe thead th {\n",
       "        text-align: right;\n",
       "    }\n",
       "</style>\n",
       "<table border=\"1\" class=\"dataframe\">\n",
       "  <thead>\n",
       "    <tr style=\"text-align: right;\">\n",
       "      <th>Cont</th>\n",
       "      <th>1nb mon</th>\n",
       "      <th>2nb mon</th>\n",
       "      <th>3nb mon</th>\n",
       "      <th>6nb mon</th>\n",
       "    </tr>\n",
       "    <tr>\n",
       "      <th>Settlement Date</th>\n",
       "      <th></th>\n",
       "      <th></th>\n",
       "      <th></th>\n",
       "      <th></th>\n",
       "    </tr>\n",
       "  </thead>\n",
       "  <tbody>\n",
       "    <tr>\n",
       "      <th>2013-01-18</th>\n",
       "      <td>(95.56, 13G)</td>\n",
       "      <td>(96.04, 13H)</td>\n",
       "      <td>(96.43, 13J)</td>\n",
       "      <td>(97.0, 13N)</td>\n",
       "    </tr>\n",
       "    <tr>\n",
       "      <th>2013-01-22</th>\n",
       "      <td>(96.24, 13G)</td>\n",
       "      <td>(96.68, 13H)</td>\n",
       "      <td>(97.07, 13J)</td>\n",
       "      <td>(97.68, 13N)</td>\n",
       "    </tr>\n",
       "    <tr>\n",
       "      <th>2013-01-23</th>\n",
       "      <td>(95.23, 13H)</td>\n",
       "      <td>(95.75, 13J)</td>\n",
       "      <td>(96.21, 13K)</td>\n",
       "      <td>(96.58, 13Q)</td>\n",
       "    </tr>\n",
       "    <tr>\n",
       "      <th>2013-01-24</th>\n",
       "      <td>(95.95, 13H)</td>\n",
       "      <td>(96.45, 13J)</td>\n",
       "      <td>(96.9, 13K)</td>\n",
       "      <td>(97.31, 13Q)</td>\n",
       "    </tr>\n",
       "  </tbody>\n",
       "</table>\n",
       "</div>"
      ],
      "text/plain": [
       "Cont                  1nb mon       2nb mon       3nb mon       6nb mon\n",
       "Settlement Date                                                        \n",
       "2013-01-18       (95.56, 13G)  (96.04, 13H)  (96.43, 13J)   (97.0, 13N)\n",
       "2013-01-22       (96.24, 13G)  (96.68, 13H)  (97.07, 13J)  (97.68, 13N)\n",
       "2013-01-23       (95.23, 13H)  (95.75, 13J)  (96.21, 13K)  (96.58, 13Q)\n",
       "2013-01-24       (95.95, 13H)  (96.45, 13J)   (96.9, 13K)  (97.31, 13Q)"
      ]
     },
     "execution_count": 68,
     "metadata": {},
     "output_type": "execute_result"
    }
   ],
   "source": [
    "sett_pivot[['1nb mon','2nb mon','3nb mon','6nb mon']][12:16]"
   ]
  },
  {
   "cell_type": "markdown",
   "metadata": {},
   "source": [
    "The following plot shows each of the nearby contracts.  Notice these generally follow each other in a very consistent pattern.  The difference between the first nearby and the second nearby is called a 'Calendar Spread'.  "
   ]
  },
  {
   "cell_type": "code",
   "execution_count": 69,
   "metadata": {
    "collapsed": false
   },
   "outputs": [
    {
     "data": {
      "image/png": "[encoded data removed]",
      "text/plain": [
       "<matplotlib.figure.Figure at 0x1a397d30>"
      ]
     },
     "metadata": {},
     "output_type": "display_data"
    }
   ],
   "source": [
    "plt.rcParams['figure.figsize'] = 20,8\n",
    "plt.title('Historical Settlement Prices of Each N-th Nearby Contract Month');\n",
    "plt.plot(sett_pivot[['N1','N2','N3','N6']]);\n",
    "plt.legend(['1st Nearby', '2nd Nearby','3rd Nearby','6th Nearby']);\n"
   ]
  },
  {
   "cell_type": "markdown",
   "metadata": {},
   "source": [
    "This plot shows the spread between the first and third nearby months.  "
   ]
  },
  {
   "cell_type": "code",
   "execution_count": 70,
   "metadata": {
    "collapsed": false
   },
   "outputs": [
    {
     "data": {
      "image/png": "[encoded data removed]",
      "text/plain": [
       "<matplotlib.figure.Figure at 0x1a62ffd0>"
      ]
     },
     "metadata": {},
     "output_type": "display_data"
    }
   ],
   "source": [
    "plt.plot(sett_pivot['N1'] - sett_pivot['N3']);\n",
    "plt.title('Historical 1st and 3rd month spread');\n",
    "plt.xlabel('Trading Date', color='b');\n",
    "plt.ylabel('Price', color='b');\n",
    "plt.legend(['1st Nearby - 3rd Nearby Spread Price'])\n",
    "plt.rcParams['figure.figsize'] = 20,8"
   ]
  },
  {
   "cell_type": "markdown",
   "metadata": {},
   "source": [
    "Now we can find n-th nearby contracts from flat settlement data using functions above. We will use those for Orbital Insight data analysis in the next section "
   ]
  },
  {
   "cell_type": "code",
   "execution_count": 71,
   "metadata": {
    "collapsed": false
   },
   "outputs": [
    {
     "data": {
      "text/html": [
       "<div>\n",
       "<style scoped>\n",
       "    .dataframe tbody tr th:only-of-type {\n",
       "        vertical-align: middle;\n",
       "    }\n",
       "\n",
       "    .dataframe tbody tr th {\n",
       "        vertical-align: top;\n",
       "    }\n",
       "\n",
       "    .dataframe thead th {\n",
       "        text-align: right;\n",
       "    }\n",
       "</style>\n",
       "<table border=\"1\" class=\"dataframe\">\n",
       "  <thead>\n",
       "    <tr style=\"text-align: right;\">\n",
       "      <th>Cont</th>\n",
       "      <th>1nb mon</th>\n",
       "      <th>2nb mon</th>\n",
       "      <th>3nb mon</th>\n",
       "      <th>6nb mon</th>\n",
       "      <th>date</th>\n",
       "      <th>index</th>\n",
       "    </tr>\n",
       "  </thead>\n",
       "  <tbody>\n",
       "    <tr>\n",
       "      <th>0</th>\n",
       "      <td>(93.12, 13G)</td>\n",
       "      <td>(93.55, 13H)</td>\n",
       "      <td>(93.97, 13J)</td>\n",
       "      <td>(94.76, 13N)</td>\n",
       "      <td>2013-01-02</td>\n",
       "      <td>0</td>\n",
       "    </tr>\n",
       "    <tr>\n",
       "      <th>1</th>\n",
       "      <td>(92.92, 13G)</td>\n",
       "      <td>(93.34, 13H)</td>\n",
       "      <td>(93.76, 13J)</td>\n",
       "      <td>(94.55, 13N)</td>\n",
       "      <td>2013-01-03</td>\n",
       "      <td>1</td>\n",
       "    </tr>\n",
       "    <tr>\n",
       "      <th>2</th>\n",
       "      <td>(93.09, 13G)</td>\n",
       "      <td>(93.51, 13H)</td>\n",
       "      <td>(93.91, 13J)</td>\n",
       "      <td>(94.51, 13N)</td>\n",
       "      <td>2013-01-04</td>\n",
       "      <td>2</td>\n",
       "    </tr>\n",
       "    <tr>\n",
       "      <th>3</th>\n",
       "      <td>(93.19, 13G)</td>\n",
       "      <td>(93.63, 13H)</td>\n",
       "      <td>(94.02, 13J)</td>\n",
       "      <td>(94.67, 13N)</td>\n",
       "      <td>2013-01-07</td>\n",
       "      <td>3</td>\n",
       "    </tr>\n",
       "    <tr>\n",
       "      <th>4</th>\n",
       "      <td>(93.15, 13G)</td>\n",
       "      <td>(93.6, 13H)</td>\n",
       "      <td>(94.02, 13J)</td>\n",
       "      <td>(94.81, 13N)</td>\n",
       "      <td>2013-01-08</td>\n",
       "      <td>4</td>\n",
       "    </tr>\n",
       "    <tr>\n",
       "      <th>5</th>\n",
       "      <td>(93.1, 13G)</td>\n",
       "      <td>(93.56, 13H)</td>\n",
       "      <td>(93.99, 13J)</td>\n",
       "      <td>(94.87, 13N)</td>\n",
       "      <td>2013-01-09</td>\n",
       "      <td>5</td>\n",
       "    </tr>\n",
       "    <tr>\n",
       "      <th>6</th>\n",
       "      <td>(93.82, 13G)</td>\n",
       "      <td>(94.27, 13H)</td>\n",
       "      <td>(94.65, 13J)</td>\n",
       "      <td>(95.33, 13N)</td>\n",
       "      <td>2013-01-10</td>\n",
       "      <td>6</td>\n",
       "    </tr>\n",
       "    <tr>\n",
       "      <th>7</th>\n",
       "      <td>(93.56, 13G)</td>\n",
       "      <td>(93.99, 13H)</td>\n",
       "      <td>(94.35, 13J)</td>\n",
       "      <td>(94.98, 13N)</td>\n",
       "      <td>2013-01-11</td>\n",
       "      <td>7</td>\n",
       "    </tr>\n",
       "    <tr>\n",
       "      <th>8</th>\n",
       "      <td>(94.14, 13G)</td>\n",
       "      <td>(94.59, 13H)</td>\n",
       "      <td>(94.97, 13J)</td>\n",
       "      <td>(95.65, 13N)</td>\n",
       "      <td>2013-01-14</td>\n",
       "      <td>8</td>\n",
       "    </tr>\n",
       "    <tr>\n",
       "      <th>9</th>\n",
       "      <td>(93.28, 13G)</td>\n",
       "      <td>(93.72, 13H)</td>\n",
       "      <td>(94.09, 13J)</td>\n",
       "      <td>(94.68, 13N)</td>\n",
       "      <td>2013-01-15</td>\n",
       "      <td>9</td>\n",
       "    </tr>\n",
       "  </tbody>\n",
       "</table>\n",
       "</div>"
      ],
      "text/plain": [
       "Cont       1nb mon       2nb mon       3nb mon       6nb mon       date  index\n",
       "0     (93.12, 13G)  (93.55, 13H)  (93.97, 13J)  (94.76, 13N) 2013-01-02      0\n",
       "1     (92.92, 13G)  (93.34, 13H)  (93.76, 13J)  (94.55, 13N) 2013-01-03      1\n",
       "2     (93.09, 13G)  (93.51, 13H)  (93.91, 13J)  (94.51, 13N) 2013-01-04      2\n",
       "3     (93.19, 13G)  (93.63, 13H)  (94.02, 13J)  (94.67, 13N) 2013-01-07      3\n",
       "4     (93.15, 13G)   (93.6, 13H)  (94.02, 13J)  (94.81, 13N) 2013-01-08      4\n",
       "5      (93.1, 13G)  (93.56, 13H)  (93.99, 13J)  (94.87, 13N) 2013-01-09      5\n",
       "6     (93.82, 13G)  (94.27, 13H)  (94.65, 13J)  (95.33, 13N) 2013-01-10      6\n",
       "7     (93.56, 13G)  (93.99, 13H)  (94.35, 13J)  (94.98, 13N) 2013-01-11      7\n",
       "8     (94.14, 13G)  (94.59, 13H)  (94.97, 13J)  (95.65, 13N) 2013-01-14      8\n",
       "9     (93.28, 13G)  (93.72, 13H)  (94.09, 13J)  (94.68, 13N) 2013-01-15      9"
      ]
     },
     "execution_count": 71,
     "metadata": {},
     "output_type": "execute_result"
    }
   ],
   "source": [
    "# concise dataframe from pivot table \n",
    "price_df = pd.DataFrame(sett_pivot[['1nb mon','2nb mon','3nb mon','6nb mon']])\n",
    "price_df['date'] = price_df.index\n",
    "price_df = price_df.reset_index(drop=True)\n",
    "price_df['index'] = price_df.index\n",
    "price_df.head(10)"
   ]
  },
  {
   "cell_type": "markdown",
   "metadata": {},
   "source": [
    "### Tracking settlement prices in x-days for a certain contract"
   ]
  },
  {
   "cell_type": "markdown",
   "metadata": {
    "collapsed": true
   },
   "source": [
    "Since a contract expires every month, simply shifting rows will not work here to track prices in x-days"
   ]
  },
  {
   "cell_type": "code",
   "execution_count": 72,
   "metadata": {
    "collapsed": true
   },
   "outputs": [],
   "source": [
    "# function: finding settlement price a day prior\n",
    "def prior_price(x,a,n):\n",
    "    return sett_pivot[x[str(a)+'nb mon'][1]][x['index']-n]\n",
    "    \n",
    "    "
   ]
  },
  {
   "cell_type": "code",
   "execution_count": 73,
   "metadata": {
    "collapsed": true
   },
   "outputs": [],
   "source": [
    "# function: finding settlement price a day after\n",
    "def after_price(x,a,n):\n",
    "    if x['index']+n > len(price_df)-n:\n",
    "        return None\n",
    "    else:\n",
    "        return sett_pivot[x[str(a)+'nb mon'][1]][x['index']+n]"
   ]
  },
  {
   "cell_type": "markdown",
   "metadata": {},
   "source": [
    "Tracking settlement prices for various contracts"
   ]
  },
  {
   "cell_type": "code",
   "execution_count": 74,
   "metadata": {
    "collapsed": true
   },
   "outputs": [],
   "source": [
    "n=10 # n prior day\n",
    "a=1 # a nearby month\n",
    "price_df[str(a) + 'nb_' + str(n) + 'days'] = price_df.apply(lambda row: after_price(row,a,n), axis=1)\n",
    "price_df[str(a) + 'nb_price'] = price_df[str(a) +'nb mon'].apply(lambda x: x[0])\n",
    "\n",
    "n=10 # n prior day\n",
    "a=2 # a nearby month\n",
    "price_df[str(a) + 'nb_' + str(n) + 'days'] = price_df.apply(lambda row: after_price(row,a,n), axis=1)\n",
    "price_df[str(a) + 'nb_price'] = price_df[str(a) +'nb mon'].apply(lambda x: x[0])\n",
    "\n",
    "n=10 # n prior day\n",
    "a=3 # a nearby month\n",
    "price_df[str(a) + 'nb_' + str(n) + 'days'] = price_df.apply(lambda row: after_price(row,a,n), axis=1)\n",
    "price_df[str(a) + 'nb_price'] = price_df[str(a) +'nb mon'].apply(lambda x: x[0])\n",
    "\n",
    "n=20 # n prior day\n",
    "a=2 # a nearby month\n",
    "price_df[str(a) + 'nb_' + str(n) + 'days'] = price_df.apply(lambda row: after_price(row,a,n), axis=1)\n",
    "price_df[str(a) + 'nb_price'] = price_df[str(a) +'nb mon'].apply(lambda x: x[0])\n",
    "\n",
    "n=20 # n prior day\n",
    "a=3 # a nearby month\n",
    "price_df[str(a) + 'nb_' + str(n) + 'days'] = price_df.apply(lambda row: after_price(row,a,n), axis=1)\n",
    "price_df[str(a) + 'nb_price'] = price_df[str(a) +'nb mon'].apply(lambda x: x[0])\n",
    "\n",
    "n=40 # n prior day\n",
    "a=3 # a nearby month\n",
    "price_df[str(a) + 'nb_' + str(n) + 'days'] = price_df.apply(lambda row: after_price(row,a,n), axis=1)\n",
    "price_df[str(a) + 'nb_price'] = price_df[str(a) +'nb mon'].apply(lambda x: x[0])\n",
    "\n",
    "n=40 # n prior day\n",
    "a=6 # a nearby month\n",
    "price_df[str(a) + 'nb_' + str(n) + 'days'] = price_df.apply(lambda row: after_price(row,a,n), axis=1)\n",
    "price_df[str(a) + 'nb_price'] = price_df[str(a) +'nb mon'].apply(lambda x: x[0])\n"
   ]
  },
  {
   "cell_type": "code",
   "execution_count": 75,
   "metadata": {
    "collapsed": true
   },
   "outputs": [],
   "source": [
    "# calculating price changes\n",
    "price_df['1nb_chg_10days'] = price_df['1nb_10days'] - price_df['1nb_price']\n",
    "price_df['2nb_chg_10days'] = price_df['2nb_10days'] - price_df['2nb_price']\n",
    "price_df['3nb_chg_10days'] = price_df['3nb_10days'] - price_df['3nb_price']\n",
    "\n",
    "# some 1nb_price doesn't exist anymore in 20 days. So, 1nb_price is excluded from tracking prices in 20 days \n",
    "price_df['2nb_chg_20days'] = price_df['2nb_20days'] - price_df['2nb_price']\n",
    "price_df['3nb_chg_20days'] = price_df['3nb_20days'] - price_df['3nb_price']\n",
    "\n",
    "# some 2nb_price doesn't exist anymore in 40 days. So, 2nb_price is excluded from tracking prices in 40 days\n",
    "price_df['3nb_chg_40days'] = price_df['3nb_40days'] - price_df['3nb_price']\n",
    "price_df['6nb_chg_40days'] = price_df['6nb_40days'] - price_df['6nb_price']\n"
   ]
  },
  {
   "cell_type": "markdown",
   "metadata": {},
   "source": [
    "Resampling data (converting daily into weekly)"
   ]
  },
  {
   "cell_type": "code",
   "execution_count": 76,
   "metadata": {
    "collapsed": true
   },
   "outputs": [],
   "source": [
    "price_df.index = pd.DatetimeIndex(price_df['date'])\n",
    "price_resample = price_df.resample('W').first()"
   ]
  },
  {
   "cell_type": "code",
   "execution_count": 77,
   "metadata": {
    "collapsed": false
   },
   "outputs": [
    {
     "data": {
      "text/html": [
       "<div>\n",
       "<style scoped>\n",
       "    .dataframe tbody tr th:only-of-type {\n",
       "        vertical-align: middle;\n",
       "    }\n",
       "\n",
       "    .dataframe tbody tr th {\n",
       "        vertical-align: top;\n",
       "    }\n",
       "\n",
       "    .dataframe thead th {\n",
       "        text-align: right;\n",
       "    }\n",
       "</style>\n",
       "<table border=\"1\" class=\"dataframe\">\n",
       "  <thead>\n",
       "    <tr style=\"text-align: right;\">\n",
       "      <th>Cont</th>\n",
       "      <th>1nb mon</th>\n",
       "      <th>2nb mon</th>\n",
       "      <th>3nb mon</th>\n",
       "      <th>6nb mon</th>\n",
       "      <th>date</th>\n",
       "      <th>index</th>\n",
       "      <th>1nb_10days</th>\n",
       "      <th>1nb_price</th>\n",
       "      <th>2nb_10days</th>\n",
       "      <th>2nb_price</th>\n",
       "      <th>...</th>\n",
       "      <th>3nb_40days</th>\n",
       "      <th>6nb_40days</th>\n",
       "      <th>6nb_price</th>\n",
       "      <th>1nb_chg_10days</th>\n",
       "      <th>2nb_chg_10days</th>\n",
       "      <th>3nb_chg_10days</th>\n",
       "      <th>2nb_chg_20days</th>\n",
       "      <th>3nb_chg_20days</th>\n",
       "      <th>3nb_chg_40days</th>\n",
       "      <th>6nb_chg_40days</th>\n",
       "    </tr>\n",
       "    <tr>\n",
       "      <th>date</th>\n",
       "      <th></th>\n",
       "      <th></th>\n",
       "      <th></th>\n",
       "      <th></th>\n",
       "      <th></th>\n",
       "      <th></th>\n",
       "      <th></th>\n",
       "      <th></th>\n",
       "      <th></th>\n",
       "      <th></th>\n",
       "      <th></th>\n",
       "      <th></th>\n",
       "      <th></th>\n",
       "      <th></th>\n",
       "      <th></th>\n",
       "      <th></th>\n",
       "      <th></th>\n",
       "      <th></th>\n",
       "      <th></th>\n",
       "      <th></th>\n",
       "      <th></th>\n",
       "    </tr>\n",
       "  </thead>\n",
       "  <tbody>\n",
       "    <tr>\n",
       "      <th>2013-01-02</th>\n",
       "      <td>(93.12, 13G)</td>\n",
       "      <td>(93.55, 13H)</td>\n",
       "      <td>(93.97, 13J)</td>\n",
       "      <td>(94.76, 13N)</td>\n",
       "      <td>2013-01-02</td>\n",
       "      <td>0</td>\n",
       "      <td>94.24</td>\n",
       "      <td>93.12</td>\n",
       "      <td>94.68</td>\n",
       "      <td>93.55</td>\n",
       "      <td>...</td>\n",
       "      <td>90.68</td>\n",
       "      <td>91.86</td>\n",
       "      <td>94.76</td>\n",
       "      <td>1.12</td>\n",
       "      <td>1.13</td>\n",
       "      <td>1.08</td>\n",
       "      <td>3.94</td>\n",
       "      <td>3.99</td>\n",
       "      <td>-3.29</td>\n",
       "      <td>-2.90</td>\n",
       "    </tr>\n",
       "    <tr>\n",
       "      <th>2013-01-03</th>\n",
       "      <td>(92.92, 13G)</td>\n",
       "      <td>(93.34, 13H)</td>\n",
       "      <td>(93.76, 13J)</td>\n",
       "      <td>(94.55, 13N)</td>\n",
       "      <td>2013-01-03</td>\n",
       "      <td>1</td>\n",
       "      <td>95.49</td>\n",
       "      <td>92.92</td>\n",
       "      <td>95.94</td>\n",
       "      <td>93.34</td>\n",
       "      <td>...</td>\n",
       "      <td>90.12</td>\n",
       "      <td>91.30</td>\n",
       "      <td>94.55</td>\n",
       "      <td>2.57</td>\n",
       "      <td>2.60</td>\n",
       "      <td>2.55</td>\n",
       "      <td>4.43</td>\n",
       "      <td>4.48</td>\n",
       "      <td>-3.64</td>\n",
       "      <td>-3.25</td>\n",
       "    </tr>\n",
       "    <tr>\n",
       "      <th>2013-01-04</th>\n",
       "      <td>(93.09, 13G)</td>\n",
       "      <td>(93.51, 13H)</td>\n",
       "      <td>(93.91, 13J)</td>\n",
       "      <td>(94.51, 13N)</td>\n",
       "      <td>2013-01-04</td>\n",
       "      <td>2</td>\n",
       "      <td>95.56</td>\n",
       "      <td>93.09</td>\n",
       "      <td>96.04</td>\n",
       "      <td>93.51</td>\n",
       "      <td>...</td>\n",
       "      <td>90.82</td>\n",
       "      <td>92.00</td>\n",
       "      <td>94.51</td>\n",
       "      <td>2.47</td>\n",
       "      <td>2.53</td>\n",
       "      <td>2.52</td>\n",
       "      <td>2.66</td>\n",
       "      <td>2.75</td>\n",
       "      <td>-3.09</td>\n",
       "      <td>-2.51</td>\n",
       "    </tr>\n",
       "    <tr>\n",
       "      <th>2013-01-07</th>\n",
       "      <td>(93.19, 13G)</td>\n",
       "      <td>(93.63, 13H)</td>\n",
       "      <td>(94.02, 13J)</td>\n",
       "      <td>(94.67, 13N)</td>\n",
       "      <td>2013-01-07</td>\n",
       "      <td>3</td>\n",
       "      <td>96.24</td>\n",
       "      <td>93.19</td>\n",
       "      <td>96.68</td>\n",
       "      <td>93.63</td>\n",
       "      <td>...</td>\n",
       "      <td>90.43</td>\n",
       "      <td>91.57</td>\n",
       "      <td>94.67</td>\n",
       "      <td>3.05</td>\n",
       "      <td>3.05</td>\n",
       "      <td>3.05</td>\n",
       "      <td>3.01</td>\n",
       "      <td>3.09</td>\n",
       "      <td>-3.59</td>\n",
       "      <td>-3.10</td>\n",
       "    </tr>\n",
       "    <tr>\n",
       "      <th>2013-01-08</th>\n",
       "      <td>(93.15, 13G)</td>\n",
       "      <td>(93.6, 13H)</td>\n",
       "      <td>(94.02, 13J)</td>\n",
       "      <td>(94.81, 13N)</td>\n",
       "      <td>2013-01-08</td>\n",
       "      <td>4</td>\n",
       "      <td>NaN</td>\n",
       "      <td>93.15</td>\n",
       "      <td>95.23</td>\n",
       "      <td>93.60</td>\n",
       "      <td>...</td>\n",
       "      <td>91.56</td>\n",
       "      <td>92.62</td>\n",
       "      <td>94.81</td>\n",
       "      <td>NaN</td>\n",
       "      <td>1.63</td>\n",
       "      <td>1.73</td>\n",
       "      <td>3.02</td>\n",
       "      <td>3.07</td>\n",
       "      <td>-2.46</td>\n",
       "      <td>-2.19</td>\n",
       "    </tr>\n",
       "  </tbody>\n",
       "</table>\n",
       "<p>5 rows × 24 columns</p>\n",
       "</div>"
      ],
      "text/plain": [
       "Cont             1nb mon       2nb mon       3nb mon       6nb mon       date  \\\n",
       "date                                                                            \n",
       "2013-01-02  (93.12, 13G)  (93.55, 13H)  (93.97, 13J)  (94.76, 13N) 2013-01-02   \n",
       "2013-01-03  (92.92, 13G)  (93.34, 13H)  (93.76, 13J)  (94.55, 13N) 2013-01-03   \n",
       "2013-01-04  (93.09, 13G)  (93.51, 13H)  (93.91, 13J)  (94.51, 13N) 2013-01-04   \n",
       "2013-01-07  (93.19, 13G)  (93.63, 13H)  (94.02, 13J)  (94.67, 13N) 2013-01-07   \n",
       "2013-01-08  (93.15, 13G)   (93.6, 13H)  (94.02, 13J)  (94.81, 13N) 2013-01-08   \n",
       "\n",
       "Cont        index  1nb_10days  1nb_price  2nb_10days  2nb_price  \\\n",
       "date                                                              \n",
       "2013-01-02      0       94.24      93.12       94.68      93.55   \n",
       "2013-01-03      1       95.49      92.92       95.94      93.34   \n",
       "2013-01-04      2       95.56      93.09       96.04      93.51   \n",
       "2013-01-07      3       96.24      93.19       96.68      93.63   \n",
       "2013-01-08      4         NaN      93.15       95.23      93.60   \n",
       "\n",
       "Cont             ...        3nb_40days  6nb_40days  6nb_price  1nb_chg_10days  \\\n",
       "date             ...                                                            \n",
       "2013-01-02       ...             90.68       91.86      94.76            1.12   \n",
       "2013-01-03       ...             90.12       91.30      94.55            2.57   \n",
       "2013-01-04       ...             90.82       92.00      94.51            2.47   \n",
       "2013-01-07       ...             90.43       91.57      94.67            3.05   \n",
       "2013-01-08       ...             91.56       92.62      94.81             NaN   \n",
       "\n",
       "Cont        2nb_chg_10days  3nb_chg_10days  2nb_chg_20days  3nb_chg_20days  \\\n",
       "date                                                                         \n",
       "2013-01-02            1.13            1.08            3.94            3.99   \n",
       "2013-01-03            2.60            2.55            4.43            4.48   \n",
       "2013-01-04            2.53            2.52            2.66            2.75   \n",
       "2013-01-07            3.05            3.05            3.01            3.09   \n",
       "2013-01-08            1.63            1.73            3.02            3.07   \n",
       "\n",
       "Cont        3nb_chg_40days  6nb_chg_40days  \n",
       "date                                        \n",
       "2013-01-02           -3.29           -2.90  \n",
       "2013-01-03           -3.64           -3.25  \n",
       "2013-01-04           -3.09           -2.51  \n",
       "2013-01-07           -3.59           -3.10  \n",
       "2013-01-08           -2.46           -2.19  \n",
       "\n",
       "[5 rows x 24 columns]"
      ]
     },
     "execution_count": 77,
     "metadata": {},
     "output_type": "execute_result"
    }
   ],
   "source": [
    "price_df.head(5)"
   ]
  },
  {
   "cell_type": "code",
   "execution_count": 78,
   "metadata": {
    "collapsed": false
   },
   "outputs": [
    {
     "data": {
      "text/html": [
       "<div>\n",
       "<style scoped>\n",
       "    .dataframe tbody tr th:only-of-type {\n",
       "        vertical-align: middle;\n",
       "    }\n",
       "\n",
       "    .dataframe tbody tr th {\n",
       "        vertical-align: top;\n",
       "    }\n",
       "\n",
       "    .dataframe thead th {\n",
       "        text-align: right;\n",
       "    }\n",
       "</style>\n",
       "<table border=\"1\" class=\"dataframe\">\n",
       "  <thead>\n",
       "    <tr style=\"text-align: right;\">\n",
       "      <th>Cont</th>\n",
       "      <th>1nb mon</th>\n",
       "      <th>2nb mon</th>\n",
       "      <th>3nb mon</th>\n",
       "      <th>6nb mon</th>\n",
       "      <th>date</th>\n",
       "      <th>index</th>\n",
       "      <th>1nb_10days</th>\n",
       "      <th>1nb_price</th>\n",
       "      <th>2nb_10days</th>\n",
       "      <th>2nb_price</th>\n",
       "      <th>...</th>\n",
       "      <th>3nb_40days</th>\n",
       "      <th>6nb_40days</th>\n",
       "      <th>6nb_price</th>\n",
       "      <th>1nb_chg_10days</th>\n",
       "      <th>2nb_chg_10days</th>\n",
       "      <th>3nb_chg_10days</th>\n",
       "      <th>2nb_chg_20days</th>\n",
       "      <th>3nb_chg_20days</th>\n",
       "      <th>3nb_chg_40days</th>\n",
       "      <th>6nb_chg_40days</th>\n",
       "    </tr>\n",
       "    <tr>\n",
       "      <th>date</th>\n",
       "      <th></th>\n",
       "      <th></th>\n",
       "      <th></th>\n",
       "      <th></th>\n",
       "      <th></th>\n",
       "      <th></th>\n",
       "      <th></th>\n",
       "      <th></th>\n",
       "      <th></th>\n",
       "      <th></th>\n",
       "      <th></th>\n",
       "      <th></th>\n",
       "      <th></th>\n",
       "      <th></th>\n",
       "      <th></th>\n",
       "      <th></th>\n",
       "      <th></th>\n",
       "      <th></th>\n",
       "      <th></th>\n",
       "      <th></th>\n",
       "      <th></th>\n",
       "    </tr>\n",
       "  </thead>\n",
       "  <tbody>\n",
       "    <tr>\n",
       "      <th>2013-01-06</th>\n",
       "      <td>(93.12, 13G)</td>\n",
       "      <td>(93.55, 13H)</td>\n",
       "      <td>(93.97, 13J)</td>\n",
       "      <td>(94.76, 13N)</td>\n",
       "      <td>2013-01-02</td>\n",
       "      <td>0</td>\n",
       "      <td>94.24</td>\n",
       "      <td>93.12</td>\n",
       "      <td>94.68</td>\n",
       "      <td>93.55</td>\n",
       "      <td>...</td>\n",
       "      <td>90.68</td>\n",
       "      <td>91.86</td>\n",
       "      <td>94.76</td>\n",
       "      <td>1.12</td>\n",
       "      <td>1.13</td>\n",
       "      <td>1.08</td>\n",
       "      <td>3.94</td>\n",
       "      <td>3.99</td>\n",
       "      <td>-3.29</td>\n",
       "      <td>-2.90</td>\n",
       "    </tr>\n",
       "    <tr>\n",
       "      <th>2013-01-13</th>\n",
       "      <td>(93.19, 13G)</td>\n",
       "      <td>(93.63, 13H)</td>\n",
       "      <td>(94.02, 13J)</td>\n",
       "      <td>(94.67, 13N)</td>\n",
       "      <td>2013-01-07</td>\n",
       "      <td>3</td>\n",
       "      <td>96.24</td>\n",
       "      <td>93.19</td>\n",
       "      <td>96.68</td>\n",
       "      <td>93.63</td>\n",
       "      <td>...</td>\n",
       "      <td>90.43</td>\n",
       "      <td>91.57</td>\n",
       "      <td>94.67</td>\n",
       "      <td>3.05</td>\n",
       "      <td>3.05</td>\n",
       "      <td>3.05</td>\n",
       "      <td>3.01</td>\n",
       "      <td>3.09</td>\n",
       "      <td>-3.59</td>\n",
       "      <td>-3.10</td>\n",
       "    </tr>\n",
       "    <tr>\n",
       "      <th>2013-01-20</th>\n",
       "      <td>(94.14, 13G)</td>\n",
       "      <td>(94.59, 13H)</td>\n",
       "      <td>(94.97, 13J)</td>\n",
       "      <td>(95.65, 13N)</td>\n",
       "      <td>2013-01-14</td>\n",
       "      <td>8</td>\n",
       "      <td>NaN</td>\n",
       "      <td>94.14</td>\n",
       "      <td>97.57</td>\n",
       "      <td>94.59</td>\n",
       "      <td>...</td>\n",
       "      <td>92.52</td>\n",
       "      <td>93.26</td>\n",
       "      <td>95.65</td>\n",
       "      <td>NaN</td>\n",
       "      <td>2.98</td>\n",
       "      <td>3.02</td>\n",
       "      <td>2.92</td>\n",
       "      <td>3.10</td>\n",
       "      <td>-2.45</td>\n",
       "      <td>-2.39</td>\n",
       "    </tr>\n",
       "    <tr>\n",
       "      <th>2013-01-27</th>\n",
       "      <td>(96.24, 13G)</td>\n",
       "      <td>(96.68, 13H)</td>\n",
       "      <td>(97.07, 13J)</td>\n",
       "      <td>(97.68, 13N)</td>\n",
       "      <td>2013-01-22</td>\n",
       "      <td>13</td>\n",
       "      <td>96.62</td>\n",
       "      <td>96.24</td>\n",
       "      <td>96.64</td>\n",
       "      <td>96.68</td>\n",
       "      <td>...</td>\n",
       "      <td>92.96</td>\n",
       "      <td>93.95</td>\n",
       "      <td>97.68</td>\n",
       "      <td>1.39</td>\n",
       "      <td>-0.04</td>\n",
       "      <td>0.04</td>\n",
       "      <td>-2.22</td>\n",
       "      <td>-1.85</td>\n",
       "      <td>-4.11</td>\n",
       "      <td>-3.73</td>\n",
       "    </tr>\n",
       "    <tr>\n",
       "      <th>2013-02-03</th>\n",
       "      <td>(96.44, 13H)</td>\n",
       "      <td>(96.87, 13J)</td>\n",
       "      <td>(97.26, 13K)</td>\n",
       "      <td>(97.63, 13Q)</td>\n",
       "      <td>2013-01-28</td>\n",
       "      <td>17</td>\n",
       "      <td>97.03</td>\n",
       "      <td>96.44</td>\n",
       "      <td>97.58</td>\n",
       "      <td>96.87</td>\n",
       "      <td>...</td>\n",
       "      <td>96.34</td>\n",
       "      <td>96.68</td>\n",
       "      <td>97.63</td>\n",
       "      <td>0.59</td>\n",
       "      <td>0.71</td>\n",
       "      <td>0.85</td>\n",
       "      <td>-4.24</td>\n",
       "      <td>-4.21</td>\n",
       "      <td>-0.92</td>\n",
       "      <td>-0.95</td>\n",
       "    </tr>\n",
       "  </tbody>\n",
       "</table>\n",
       "<p>5 rows × 24 columns</p>\n",
       "</div>"
      ],
      "text/plain": [
       "Cont             1nb mon       2nb mon       3nb mon       6nb mon       date  \\\n",
       "date                                                                            \n",
       "2013-01-06  (93.12, 13G)  (93.55, 13H)  (93.97, 13J)  (94.76, 13N) 2013-01-02   \n",
       "2013-01-13  (93.19, 13G)  (93.63, 13H)  (94.02, 13J)  (94.67, 13N) 2013-01-07   \n",
       "2013-01-20  (94.14, 13G)  (94.59, 13H)  (94.97, 13J)  (95.65, 13N) 2013-01-14   \n",
       "2013-01-27  (96.24, 13G)  (96.68, 13H)  (97.07, 13J)  (97.68, 13N) 2013-01-22   \n",
       "2013-02-03  (96.44, 13H)  (96.87, 13J)  (97.26, 13K)  (97.63, 13Q) 2013-01-28   \n",
       "\n",
       "Cont        index  1nb_10days  1nb_price  2nb_10days  2nb_price  \\\n",
       "date                                                              \n",
       "2013-01-06      0       94.24      93.12       94.68      93.55   \n",
       "2013-01-13      3       96.24      93.19       96.68      93.63   \n",
       "2013-01-20      8         NaN      94.14       97.57      94.59   \n",
       "2013-01-27     13       96.62      96.24       96.64      96.68   \n",
       "2013-02-03     17       97.03      96.44       97.58      96.87   \n",
       "\n",
       "Cont             ...        3nb_40days  6nb_40days  6nb_price  1nb_chg_10days  \\\n",
       "date             ...                                                            \n",
       "2013-01-06       ...             90.68       91.86      94.76            1.12   \n",
       "2013-01-13       ...             90.43       91.57      94.67            3.05   \n",
       "2013-01-20       ...             92.52       93.26      95.65             NaN   \n",
       "2013-01-27       ...             92.96       93.95      97.68            1.39   \n",
       "2013-02-03       ...             96.34       96.68      97.63            0.59   \n",
       "\n",
       "Cont        2nb_chg_10days  3nb_chg_10days  2nb_chg_20days  3nb_chg_20days  \\\n",
       "date                                                                         \n",
       "2013-01-06            1.13            1.08            3.94            3.99   \n",
       "2013-01-13            3.05            3.05            3.01            3.09   \n",
       "2013-01-20            2.98            3.02            2.92            3.10   \n",
       "2013-01-27           -0.04            0.04           -2.22           -1.85   \n",
       "2013-02-03            0.71            0.85           -4.24           -4.21   \n",
       "\n",
       "Cont        3nb_chg_40days  6nb_chg_40days  \n",
       "date                                        \n",
       "2013-01-06           -3.29           -2.90  \n",
       "2013-01-13           -3.59           -3.10  \n",
       "2013-01-20           -2.45           -2.39  \n",
       "2013-01-27           -4.11           -3.73  \n",
       "2013-02-03           -0.92           -0.95  \n",
       "\n",
       "[5 rows x 24 columns]"
      ]
     },
     "execution_count": 78,
     "metadata": {},
     "output_type": "execute_result"
    }
   ],
   "source": [
    "price_resample.head(5)"
   ]
  },
  {
   "cell_type": "markdown",
   "metadata": {},
   "source": [
    "# Orbital Insight Crude Oil Volume Estimate Data Outlook and Pattern"
   ]
  },
  {
   "cell_type": "markdown",
   "metadata": {},
   "source": [
    "OI data is available in CME DataMine and accessible using API, FSTP and AWS S3 transfer.<br>\n",
    "Data used: ORBITALINSIGHT_USA_paddall, 1/1/2014 - 6/5/2018. The numbers presented in the file have been randomly modified but for our purposes will not affect the outcome of this analysis. "
   ]
  },
  {
   "cell_type": "markdown",
   "metadata": {},
   "source": [
    "### Loading and Exploring Orbital Insight Data"
   ]
  },
  {
   "cell_type": "code",
   "execution_count": 79,
   "metadata": {
    "collapsed": true
   },
   "outputs": [],
   "source": [
    "df_oi = pd.read_csv('./data/ORBITALINSIGHT_USA_paddall_0_4_20180703_modified.csv', index_col='date', parse_dates=True )"
   ]
  },
  {
   "cell_type": "code",
   "execution_count": 80,
   "metadata": {
    "collapsed": false
   },
   "outputs": [
    {
     "data": {
      "text/html": [
       "<div>\n",
       "<style scoped>\n",
       "    .dataframe tbody tr th:only-of-type {\n",
       "        vertical-align: middle;\n",
       "    }\n",
       "\n",
       "    .dataframe tbody tr th {\n",
       "        vertical-align: top;\n",
       "    }\n",
       "\n",
       "    .dataframe thead th {\n",
       "        text-align: right;\n",
       "    }\n",
       "</style>\n",
       "<table border=\"1\" class=\"dataframe\">\n",
       "  <thead>\n",
       "    <tr style=\"text-align: right;\">\n",
       "      <th></th>\n",
       "      <th>volume.estimate</th>\n",
       "      <th>smoothed.estimate</th>\n",
       "      <th>volume.estimate.stderr</th>\n",
       "      <th>storage.capacity.estimate</th>\n",
       "      <th>total.available.tanks</th>\n",
       "      <th>sampled.tanks</th>\n",
       "      <th>truth_value_mb</th>\n",
       "    </tr>\n",
       "    <tr>\n",
       "      <th>date</th>\n",
       "      <th></th>\n",
       "      <th></th>\n",
       "      <th></th>\n",
       "      <th></th>\n",
       "      <th></th>\n",
       "      <th></th>\n",
       "      <th></th>\n",
       "    </tr>\n",
       "  </thead>\n",
       "  <tbody>\n",
       "    <tr>\n",
       "      <th>2014-01-01</th>\n",
       "      <td>337.613942</td>\n",
       "      <td>NaN</td>\n",
       "      <td>8.618299</td>\n",
       "      <td>679.873814</td>\n",
       "      <td>3947</td>\n",
       "      <td>145</td>\n",
       "      <td>NaN</td>\n",
       "    </tr>\n",
       "    <tr>\n",
       "      <th>2014-01-02</th>\n",
       "      <td>334.726793</td>\n",
       "      <td>NaN</td>\n",
       "      <td>8.297105</td>\n",
       "      <td>679.873814</td>\n",
       "      <td>3947</td>\n",
       "      <td>364</td>\n",
       "      <td>NaN</td>\n",
       "    </tr>\n",
       "    <tr>\n",
       "      <th>2014-01-03</th>\n",
       "      <td>333.567292</td>\n",
       "      <td>NaN</td>\n",
       "      <td>7.765425</td>\n",
       "      <td>679.873814</td>\n",
       "      <td>3947</td>\n",
       "      <td>397</td>\n",
       "      <td>326.737</td>\n",
       "    </tr>\n",
       "    <tr>\n",
       "      <th>2014-01-04</th>\n",
       "      <td>334.447059</td>\n",
       "      <td>NaN</td>\n",
       "      <td>7.776826</td>\n",
       "      <td>679.873814</td>\n",
       "      <td>3947</td>\n",
       "      <td>400</td>\n",
       "      <td>NaN</td>\n",
       "    </tr>\n",
       "    <tr>\n",
       "      <th>2014-01-05</th>\n",
       "      <td>334.255716</td>\n",
       "      <td>NaN</td>\n",
       "      <td>8.187224</td>\n",
       "      <td>679.873814</td>\n",
       "      <td>3947</td>\n",
       "      <td>393</td>\n",
       "      <td>NaN</td>\n",
       "    </tr>\n",
       "  </tbody>\n",
       "</table>\n",
       "</div>"
      ],
      "text/plain": [
       "            volume.estimate  smoothed.estimate  volume.estimate.stderr  \\\n",
       "date                                                                     \n",
       "2014-01-01       337.613942                NaN                8.618299   \n",
       "2014-01-02       334.726793                NaN                8.297105   \n",
       "2014-01-03       333.567292                NaN                7.765425   \n",
       "2014-01-04       334.447059                NaN                7.776826   \n",
       "2014-01-05       334.255716                NaN                8.187224   \n",
       "\n",
       "            storage.capacity.estimate  total.available.tanks  sampled.tanks  \\\n",
       "date                                                                          \n",
       "2014-01-01                 679.873814                   3947            145   \n",
       "2014-01-02                 679.873814                   3947            364   \n",
       "2014-01-03                 679.873814                   3947            397   \n",
       "2014-01-04                 679.873814                   3947            400   \n",
       "2014-01-05                 679.873814                   3947            393   \n",
       "\n",
       "            truth_value_mb  \n",
       "date                        \n",
       "2014-01-01             NaN  \n",
       "2014-01-02             NaN  \n",
       "2014-01-03         326.737  \n",
       "2014-01-04             NaN  \n",
       "2014-01-05             NaN  "
      ]
     },
     "execution_count": 80,
     "metadata": {},
     "output_type": "execute_result"
    }
   ],
   "source": [
    "df_oi.head()"
   ]
  },
  {
   "cell_type": "code",
   "execution_count": 81,
   "metadata": {
    "collapsed": false
   },
   "outputs": [
    {
     "data": {
      "text/plain": [
       "Index([u'volume.estimate', u'smoothed.estimate', u'volume.estimate.stderr',\n",
       "       u'storage.capacity.estimate', u'total.available.tanks',\n",
       "       u'sampled.tanks', u'truth_value_mb'],\n",
       "      dtype='object')"
      ]
     },
     "execution_count": 81,
     "metadata": {},
     "output_type": "execute_result"
    }
   ],
   "source": [
    "df_oi.columns"
   ]
  },
  {
   "cell_type": "markdown",
   "metadata": {},
   "source": [
    "Orbital Insight data has 8 columns; \n",
    "\n",
    "*  Date - date of estimate\n",
    "*  Volume.estimate - estimate of crude oil in floating roof tank\n",
    "*  Smoothed.estimate - moving average of volume.estimate\n",
    "*  Volume.estimate.stderr - standard error for the volume estimate\n",
    "*  Storage.capacity.estimate - total storage capacity for the tanks in the region\n",
    "*  Total.available.tanks - total number of tanks in Orbiatal Insight coverage\n",
    "*  Sampled.tanks - number of distinct tanks with observations that produced the volume.estimate\n",
    "*  Truth_value_mb - government published storage reading (when available)\n",
    "\n",
    "We will mainly use Volume.estimate in this analysis"
   ]
  },
  {
   "cell_type": "code",
   "execution_count": 82,
   "metadata": {
    "collapsed": false
   },
   "outputs": [
    {
     "data": {
      "text/html": [
       "<div>\n",
       "<style scoped>\n",
       "    .dataframe tbody tr th:only-of-type {\n",
       "        vertical-align: middle;\n",
       "    }\n",
       "\n",
       "    .dataframe tbody tr th {\n",
       "        vertical-align: top;\n",
       "    }\n",
       "\n",
       "    .dataframe thead th {\n",
       "        text-align: right;\n",
       "    }\n",
       "</style>\n",
       "<table border=\"1\" class=\"dataframe\">\n",
       "  <thead>\n",
       "    <tr style=\"text-align: right;\">\n",
       "      <th></th>\n",
       "      <th>volume.estimate</th>\n",
       "      <th>smoothed.estimate</th>\n",
       "      <th>volume.estimate.stderr</th>\n",
       "      <th>storage.capacity.estimate</th>\n",
       "      <th>total.available.tanks</th>\n",
       "      <th>sampled.tanks</th>\n",
       "      <th>truth_value_mb</th>\n",
       "    </tr>\n",
       "  </thead>\n",
       "  <tbody>\n",
       "    <tr>\n",
       "      <th>count</th>\n",
       "      <td>1644.000000</td>\n",
       "      <td>1630.000000</td>\n",
       "      <td>1644.000000</td>\n",
       "      <td>1644.000000</td>\n",
       "      <td>1644.000000</td>\n",
       "      <td>1644.000000</td>\n",
       "      <td>234.000000</td>\n",
       "    </tr>\n",
       "    <tr>\n",
       "      <th>mean</th>\n",
       "      <td>366.356504</td>\n",
       "      <td>366.434133</td>\n",
       "      <td>4.951365</td>\n",
       "      <td>700.818498</td>\n",
       "      <td>4028.761557</td>\n",
       "      <td>1818.508516</td>\n",
       "      <td>436.069244</td>\n",
       "    </tr>\n",
       "    <tr>\n",
       "      <th>std</th>\n",
       "      <td>28.388540</td>\n",
       "      <td>28.332276</td>\n",
       "      <td>1.412913</td>\n",
       "      <td>13.792695</td>\n",
       "      <td>51.622551</td>\n",
       "      <td>1014.838576</td>\n",
       "      <td>60.270557</td>\n",
       "    </tr>\n",
       "    <tr>\n",
       "      <th>min</th>\n",
       "      <td>308.236259</td>\n",
       "      <td>309.605410</td>\n",
       "      <td>2.208253</td>\n",
       "      <td>679.873814</td>\n",
       "      <td>3947.000000</td>\n",
       "      <td>145.000000</td>\n",
       "      <td>319.079000</td>\n",
       "    </tr>\n",
       "    <tr>\n",
       "      <th>25%</th>\n",
       "      <td>339.641977</td>\n",
       "      <td>339.519736</td>\n",
       "      <td>3.778049</td>\n",
       "      <td>688.677532</td>\n",
       "      <td>3983.000000</td>\n",
       "      <td>806.500000</td>\n",
       "      <td>393.622750</td>\n",
       "    </tr>\n",
       "    <tr>\n",
       "      <th>50%</th>\n",
       "      <td>369.095227</td>\n",
       "      <td>368.681131</td>\n",
       "      <td>4.757575</td>\n",
       "      <td>695.686767</td>\n",
       "      <td>4011.000000</td>\n",
       "      <td>1770.000000</td>\n",
       "      <td>448.048500</td>\n",
       "    </tr>\n",
       "    <tr>\n",
       "      <th>75%</th>\n",
       "      <td>390.779251</td>\n",
       "      <td>391.449719</td>\n",
       "      <td>6.241106</td>\n",
       "      <td>714.664072</td>\n",
       "      <td>4082.000000</td>\n",
       "      <td>2741.750000</td>\n",
       "      <td>485.454250</td>\n",
       "    </tr>\n",
       "    <tr>\n",
       "      <th>max</th>\n",
       "      <td>415.292512</td>\n",
       "      <td>411.417274</td>\n",
       "      <td>8.618299</td>\n",
       "      <td>724.163202</td>\n",
       "      <td>4111.000000</td>\n",
       "      <td>3676.000000</td>\n",
       "      <td>535.543000</td>\n",
       "    </tr>\n",
       "  </tbody>\n",
       "</table>\n",
       "</div>"
      ],
      "text/plain": [
       "       volume.estimate  smoothed.estimate  volume.estimate.stderr  \\\n",
       "count      1644.000000        1630.000000             1644.000000   \n",
       "mean        366.356504         366.434133                4.951365   \n",
       "std          28.388540          28.332276                1.412913   \n",
       "min         308.236259         309.605410                2.208253   \n",
       "25%         339.641977         339.519736                3.778049   \n",
       "50%         369.095227         368.681131                4.757575   \n",
       "75%         390.779251         391.449719                6.241106   \n",
       "max         415.292512         411.417274                8.618299   \n",
       "\n",
       "       storage.capacity.estimate  total.available.tanks  sampled.tanks  \\\n",
       "count                1644.000000            1644.000000    1644.000000   \n",
       "mean                  700.818498            4028.761557    1818.508516   \n",
       "std                    13.792695              51.622551    1014.838576   \n",
       "min                   679.873814            3947.000000     145.000000   \n",
       "25%                   688.677532            3983.000000     806.500000   \n",
       "50%                   695.686767            4011.000000    1770.000000   \n",
       "75%                   714.664072            4082.000000    2741.750000   \n",
       "max                   724.163202            4111.000000    3676.000000   \n",
       "\n",
       "       truth_value_mb  \n",
       "count      234.000000  \n",
       "mean       436.069244  \n",
       "std         60.270557  \n",
       "min        319.079000  \n",
       "25%        393.622750  \n",
       "50%        448.048500  \n",
       "75%        485.454250  \n",
       "max        535.543000  "
      ]
     },
     "execution_count": 82,
     "metadata": {},
     "output_type": "execute_result"
    }
   ],
   "source": [
    "df_oi.describe()"
   ]
  },
  {
   "cell_type": "markdown",
   "metadata": {},
   "source": [
    "### Graph of the raw data"
   ]
  },
  {
   "cell_type": "code",
   "execution_count": 83,
   "metadata": {
    "collapsed": false
   },
   "outputs": [
    {
     "data": {
      "image/png": "[encoded data removed]",
      "text/plain": [
       "<matplotlib.figure.Figure at 0x16ad47b8>"
      ]
     },
     "metadata": {},
     "output_type": "display_data"
    }
   ],
   "source": [
    "plt.plot(df_oi[['volume.estimate','smoothed.estimate']]);\n",
    "plt.scatter(df_oi.index,df_oi['truth_value_mb']);\n",
    "\n",
    "plt.title('Orbital Insight Raw Data - Selected Columns')\n",
    "plt.xlabel('Date', color='b');\n",
    "plt.ylabel('Price', color='b');\n",
    "plt.legend(df_oi[['volume.estimate','smoothed.estimate','truth_value_mb']])\n",
    "plt.rcParams['figure.figsize'] = 20,8"
   ]
  },
  {
   "cell_type": "markdown",
   "metadata": {},
   "source": [
    "### Orbital Insight and CME Settlement Data"
   ]
  },
  {
   "cell_type": "markdown",
   "metadata": {},
   "source": [
    "In this section, with Orbital Insight and CME crude oil settlement prices, we will track how crude oil futures price changes after Orbital Insight changes significantly. Specifically, we will see the direction of price change in 40 business days (about 2 months) when the weekly average of Orbital Insight changes significantly.  "
   ]
  },
  {
   "cell_type": "code",
   "execution_count": 84,
   "metadata": {
    "collapsed": true
   },
   "outputs": [],
   "source": [
    "#Take key pricing fields from our first section.\n",
    "df_final = price_resample[['1nb_chg_10days','2nb_chg_10days','3nb_chg_10days','2nb_chg_20days','3nb_chg_20days','3nb_chg_40days'\\\n",
    "                           ,'6nb_chg_40days']]\n",
    "\n",
    "#append Orbital Insights Data sampled on the same index.\n",
    "df_final[['smoothed.estimate','truth_value_mb','volume.estimate']] = df_oi[['smoothed.estimate','truth_value_mb',\\\n",
    "                                                                            'volume.estimate']].resample('W').mean()\n",
    "\n",
    "#generate rolling 5 week averages of the volumne.estimate field.\n",
    "df_final.loc[:,'rolling'] = df_final['volume.estimate'].rolling(window=5, min_periods=1).mean()\n",
    "\n",
    "#generate the week to week change in the rolling average.\n",
    "df_final.loc[:,'oi_change'] = df_final['volume.estimate'] - df_final['volume.estimate'].shift(1)\n",
    "\n",
    "###\n",
    "#Generate a difference between the current weeks estimate and the rolling average \n",
    "#that will be our primary trade indicator\n",
    "###\n",
    "df_final.loc[:,'diff'] = df_final['volume.estimate'] - df_final['rolling']"
   ]
  },
  {
   "cell_type": "code",
   "execution_count": 85,
   "metadata": {
    "collapsed": true
   },
   "outputs": [],
   "source": [
    "# Selecting a valid timeframe with both crude oil prices and Orbital data available\n",
    "df_final = df_final.loc['2014':'2018']"
   ]
  },
  {
   "cell_type": "code",
   "execution_count": 86,
   "metadata": {
    "collapsed": false
   },
   "outputs": [
    {
     "data": {
      "text/html": [
       "<div>\n",
       "<style scoped>\n",
       "    .dataframe tbody tr th:only-of-type {\n",
       "        vertical-align: middle;\n",
       "    }\n",
       "\n",
       "    .dataframe tbody tr th {\n",
       "        vertical-align: top;\n",
       "    }\n",
       "\n",
       "    .dataframe thead th {\n",
       "        text-align: right;\n",
       "    }\n",
       "</style>\n",
       "<table border=\"1\" class=\"dataframe\">\n",
       "  <thead>\n",
       "    <tr style=\"text-align: right;\">\n",
       "      <th>Cont</th>\n",
       "      <th>rolling</th>\n",
       "      <th>oi_change</th>\n",
       "      <th>diff</th>\n",
       "    </tr>\n",
       "    <tr>\n",
       "      <th>date</th>\n",
       "      <th></th>\n",
       "      <th></th>\n",
       "      <th></th>\n",
       "    </tr>\n",
       "  </thead>\n",
       "  <tbody>\n",
       "    <tr>\n",
       "      <th>2014-01-05</th>\n",
       "      <td>334.922160</td>\n",
       "      <td>NaN</td>\n",
       "      <td>0.000000</td>\n",
       "    </tr>\n",
       "    <tr>\n",
       "      <th>2014-01-12</th>\n",
       "      <td>334.303527</td>\n",
       "      <td>-1.237267</td>\n",
       "      <td>-0.618633</td>\n",
       "    </tr>\n",
       "    <tr>\n",
       "      <th>2014-01-19</th>\n",
       "      <td>333.345922</td>\n",
       "      <td>-2.254181</td>\n",
       "      <td>-1.915209</td>\n",
       "    </tr>\n",
       "    <tr>\n",
       "      <th>2014-01-26</th>\n",
       "      <td>332.636973</td>\n",
       "      <td>-0.920588</td>\n",
       "      <td>-2.126848</td>\n",
       "    </tr>\n",
       "    <tr>\n",
       "      <th>2014-02-02</th>\n",
       "      <td>331.534398</td>\n",
       "      <td>-3.386025</td>\n",
       "      <td>-4.410299</td>\n",
       "    </tr>\n",
       "  </tbody>\n",
       "</table>\n",
       "</div>"
      ],
      "text/plain": [
       "Cont           rolling  oi_change      diff\n",
       "date                                       \n",
       "2014-01-05  334.922160        NaN  0.000000\n",
       "2014-01-12  334.303527  -1.237267 -0.618633\n",
       "2014-01-19  333.345922  -2.254181 -1.915209\n",
       "2014-01-26  332.636973  -0.920588 -2.126848\n",
       "2014-02-02  331.534398  -3.386025 -4.410299"
      ]
     },
     "execution_count": 86,
     "metadata": {},
     "output_type": "execute_result"
    }
   ],
   "source": [
    "df_final[['rolling','oi_change','diff']].head()"
   ]
  },
  {
   "cell_type": "code",
   "execution_count": 87,
   "metadata": {
    "collapsed": true
   },
   "outputs": [],
   "source": [
    "# adding directions of price changes/volume estimate\n",
    "\n",
    "# We want to track the price changes in 40 business days (about 2 months). The 3rd nearby contract is the closest contract which\n",
    "# doesn't expire for the next 40 days\n",
    "\n",
    "df_final['oi_chg_sign'] = np.sign(df_final['oi_change'].fillna(0))\n",
    "df_final['price_chg_sign'] = np.sign(df_final['3nb_chg_40days'].fillna(0))\n",
    "\n",
    "#filled NaN with zero since .sign returns a warning if NaN provided"
   ]
  },
  {
   "cell_type": "markdown",
   "metadata": {},
   "source": [
    "We want to track the price changes in 40 business days (about 2 months). The third nearby contract is the closest contract, which does not expire for the next 40 days"
   ]
  },
  {
   "cell_type": "code",
   "execution_count": 88,
   "metadata": {
    "collapsed": false
   },
   "outputs": [
    {
     "data": {
      "text/html": [
       "<div>\n",
       "<style scoped>\n",
       "    .dataframe tbody tr th:only-of-type {\n",
       "        vertical-align: middle;\n",
       "    }\n",
       "\n",
       "    .dataframe tbody tr th {\n",
       "        vertical-align: top;\n",
       "    }\n",
       "\n",
       "    .dataframe thead th {\n",
       "        text-align: right;\n",
       "    }\n",
       "</style>\n",
       "<table border=\"1\" class=\"dataframe\">\n",
       "  <thead>\n",
       "    <tr style=\"text-align: right;\">\n",
       "      <th>Cont</th>\n",
       "      <th>rolling</th>\n",
       "      <th>oi_change</th>\n",
       "      <th>diff</th>\n",
       "      <th>oi_chg_sign</th>\n",
       "      <th>price_chg_sign</th>\n",
       "    </tr>\n",
       "    <tr>\n",
       "      <th>date</th>\n",
       "      <th></th>\n",
       "      <th></th>\n",
       "      <th></th>\n",
       "      <th></th>\n",
       "      <th></th>\n",
       "    </tr>\n",
       "  </thead>\n",
       "  <tbody>\n",
       "    <tr>\n",
       "      <th>2014-01-05</th>\n",
       "      <td>334.922160</td>\n",
       "      <td>NaN</td>\n",
       "      <td>0.000000</td>\n",
       "      <td>0.0</td>\n",
       "      <td>1.0</td>\n",
       "    </tr>\n",
       "    <tr>\n",
       "      <th>2014-01-12</th>\n",
       "      <td>334.303527</td>\n",
       "      <td>-1.237267</td>\n",
       "      <td>-0.618633</td>\n",
       "      <td>-1.0</td>\n",
       "      <td>1.0</td>\n",
       "    </tr>\n",
       "    <tr>\n",
       "      <th>2014-01-19</th>\n",
       "      <td>333.345922</td>\n",
       "      <td>-2.254181</td>\n",
       "      <td>-1.915209</td>\n",
       "      <td>-1.0</td>\n",
       "      <td>1.0</td>\n",
       "    </tr>\n",
       "    <tr>\n",
       "      <th>2014-01-26</th>\n",
       "      <td>332.636973</td>\n",
       "      <td>-0.920588</td>\n",
       "      <td>-2.126848</td>\n",
       "      <td>-1.0</td>\n",
       "      <td>1.0</td>\n",
       "    </tr>\n",
       "    <tr>\n",
       "      <th>2014-02-02</th>\n",
       "      <td>331.534398</td>\n",
       "      <td>-3.386025</td>\n",
       "      <td>-4.410299</td>\n",
       "      <td>-1.0</td>\n",
       "      <td>1.0</td>\n",
       "    </tr>\n",
       "  </tbody>\n",
       "</table>\n",
       "</div>"
      ],
      "text/plain": [
       "Cont           rolling  oi_change      diff  oi_chg_sign  price_chg_sign\n",
       "date                                                                    \n",
       "2014-01-05  334.922160        NaN  0.000000          0.0             1.0\n",
       "2014-01-12  334.303527  -1.237267 -0.618633         -1.0             1.0\n",
       "2014-01-19  333.345922  -2.254181 -1.915209         -1.0             1.0\n",
       "2014-01-26  332.636973  -0.920588 -2.126848         -1.0             1.0\n",
       "2014-02-02  331.534398  -3.386025 -4.410299         -1.0             1.0"
      ]
     },
     "execution_count": 88,
     "metadata": {},
     "output_type": "execute_result"
    }
   ],
   "source": [
    "df_final[['rolling','oi_change','diff','oi_chg_sign','price_chg_sign']].head()"
   ]
  },
  {
   "cell_type": "markdown",
   "metadata": {},
   "source": [
    "Below we will generate information about our assumptions, the column 'threshold_dir' gives us two pieces of information:\n",
    "\n",
    "1. If Orbital Insight volume estimate shows a significant increase or decrease. In those cases where weekly OI change is bigger than 0.7% of the prior week average, the column shows direction(1/-1), otherwise 0.\n",
    "2. Threshold_dir: 1 when both OI data and crude oil prices move in the same direction, -1 when moved in different directions\n"
   ]
  },
  {
   "cell_type": "code",
   "execution_count": 89,
   "metadata": {
    "collapsed": true
   },
   "outputs": [],
   "source": [
    "df_final['dir_compare'] = df_final['oi_chg_sign'] * df_final['price_chg_sign']\n",
    "threshold = 0.007\n",
    "df_final['threshold'] = np.where( abs(df_final['oi_change']) > (threshold*(df_final['volume.estimate'].shift(1))),1,0 )\n",
    "df_final['threshold_dir'] = df_final['threshold'] * df_final['dir_compare']"
   ]
  },
  {
   "cell_type": "code",
   "execution_count": 90,
   "metadata": {
    "collapsed": false
   },
   "outputs": [
    {
     "data": {
      "text/html": [
       "<div>\n",
       "<style scoped>\n",
       "    .dataframe tbody tr th:only-of-type {\n",
       "        vertical-align: middle;\n",
       "    }\n",
       "\n",
       "    .dataframe tbody tr th {\n",
       "        vertical-align: top;\n",
       "    }\n",
       "\n",
       "    .dataframe thead th {\n",
       "        text-align: right;\n",
       "    }\n",
       "</style>\n",
       "<table border=\"1\" class=\"dataframe\">\n",
       "  <thead>\n",
       "    <tr style=\"text-align: right;\">\n",
       "      <th>Cont</th>\n",
       "      <th>rolling</th>\n",
       "      <th>oi_change</th>\n",
       "      <th>diff</th>\n",
       "      <th>oi_chg_sign</th>\n",
       "      <th>price_chg_sign</th>\n",
       "      <th>dir_compare</th>\n",
       "      <th>threshold</th>\n",
       "      <th>threshold_dir</th>\n",
       "    </tr>\n",
       "    <tr>\n",
       "      <th>date</th>\n",
       "      <th></th>\n",
       "      <th></th>\n",
       "      <th></th>\n",
       "      <th></th>\n",
       "      <th></th>\n",
       "      <th></th>\n",
       "      <th></th>\n",
       "      <th></th>\n",
       "    </tr>\n",
       "  </thead>\n",
       "  <tbody>\n",
       "    <tr>\n",
       "      <th>2014-01-05</th>\n",
       "      <td>334.922160</td>\n",
       "      <td>NaN</td>\n",
       "      <td>0.000000</td>\n",
       "      <td>0.0</td>\n",
       "      <td>1.0</td>\n",
       "      <td>0.0</td>\n",
       "      <td>0</td>\n",
       "      <td>0.0</td>\n",
       "    </tr>\n",
       "    <tr>\n",
       "      <th>2014-01-12</th>\n",
       "      <td>334.303527</td>\n",
       "      <td>-1.237267</td>\n",
       "      <td>-0.618633</td>\n",
       "      <td>-1.0</td>\n",
       "      <td>1.0</td>\n",
       "      <td>-1.0</td>\n",
       "      <td>0</td>\n",
       "      <td>-0.0</td>\n",
       "    </tr>\n",
       "    <tr>\n",
       "      <th>2014-01-19</th>\n",
       "      <td>333.345922</td>\n",
       "      <td>-2.254181</td>\n",
       "      <td>-1.915209</td>\n",
       "      <td>-1.0</td>\n",
       "      <td>1.0</td>\n",
       "      <td>-1.0</td>\n",
       "      <td>0</td>\n",
       "      <td>-0.0</td>\n",
       "    </tr>\n",
       "    <tr>\n",
       "      <th>2014-01-26</th>\n",
       "      <td>332.636973</td>\n",
       "      <td>-0.920588</td>\n",
       "      <td>-2.126848</td>\n",
       "      <td>-1.0</td>\n",
       "      <td>1.0</td>\n",
       "      <td>-1.0</td>\n",
       "      <td>0</td>\n",
       "      <td>-0.0</td>\n",
       "    </tr>\n",
       "    <tr>\n",
       "      <th>2014-02-02</th>\n",
       "      <td>331.534398</td>\n",
       "      <td>-3.386025</td>\n",
       "      <td>-4.410299</td>\n",
       "      <td>-1.0</td>\n",
       "      <td>1.0</td>\n",
       "      <td>-1.0</td>\n",
       "      <td>1</td>\n",
       "      <td>-1.0</td>\n",
       "    </tr>\n",
       "  </tbody>\n",
       "</table>\n",
       "</div>"
      ],
      "text/plain": [
       "Cont           rolling  oi_change      diff  oi_chg_sign  price_chg_sign  \\\n",
       "date                                                                       \n",
       "2014-01-05  334.922160        NaN  0.000000          0.0             1.0   \n",
       "2014-01-12  334.303527  -1.237267 -0.618633         -1.0             1.0   \n",
       "2014-01-19  333.345922  -2.254181 -1.915209         -1.0             1.0   \n",
       "2014-01-26  332.636973  -0.920588 -2.126848         -1.0             1.0   \n",
       "2014-02-02  331.534398  -3.386025 -4.410299         -1.0             1.0   \n",
       "\n",
       "Cont        dir_compare  threshold  threshold_dir  \n",
       "date                                               \n",
       "2014-01-05          0.0          0            0.0  \n",
       "2014-01-12         -1.0          0           -0.0  \n",
       "2014-01-19         -1.0          0           -0.0  \n",
       "2014-01-26         -1.0          0           -0.0  \n",
       "2014-02-02         -1.0          1           -1.0  "
      ]
     },
     "execution_count": 90,
     "metadata": {},
     "output_type": "execute_result"
    }
   ],
   "source": [
    "df_final[['rolling','oi_change','diff','oi_chg_sign','price_chg_sign','dir_compare','threshold','threshold_dir']].head()"
   ]
  },
  {
   "cell_type": "markdown",
   "metadata": {},
   "source": [
    "-  1: OI move is significant, OI data and crude oil prices move in the same direction\n",
    "- -1: OI move is significant, OI data and crude oil prices move in the opposite direction\n",
    "-  0: OI move is NOT significant"
   ]
  },
  {
   "cell_type": "markdown",
   "metadata": {},
   "source": [
    "## Summary of Analysis"
   ]
  },
  {
   "cell_type": "markdown",
   "metadata": {},
   "source": [
    "210 weeks in the testing period"
   ]
  },
  {
   "cell_type": "code",
   "execution_count": 91,
   "metadata": {
    "collapsed": false
   },
   "outputs": [
    {
     "data": {
      "text/plain": [
       "210"
      ]
     },
     "execution_count": 91,
     "metadata": {},
     "output_type": "execute_result"
    }
   ],
   "source": [
    "#how many records in my analysis?\n",
    "df_summary = df_final[['oi_change','3nb_chg_40days','price_chg_sign','threshold_dir','oi_chg_sign','threshold','dir_compare']].dropna()\n",
    "len(df_summary)"
   ]
  },
  {
   "cell_type": "markdown",
   "metadata": {},
   "source": [
    "How many weeks show up or downward settlement price movement (in 40 days) of third nearby crude oil futures contract\n",
    "- 108 Downward (-1)\n",
    "- 102 Upward (1)"
   ]
  },
  {
   "cell_type": "code",
   "execution_count": 92,
   "metadata": {
    "collapsed": false
   },
   "outputs": [
    {
     "data": {
      "text/plain": [
       "-1    108\n",
       " 1    102\n",
       "Name: price_chg_sign, dtype: int64"
      ]
     },
     "execution_count": 92,
     "metadata": {},
     "output_type": "execute_result"
    }
   ],
   "source": [
    "pd.value_counts(df_summary['price_chg_sign'].astype(int))"
   ]
  },
  {
   "cell_type": "code",
   "execution_count": 93,
   "metadata": {
    "collapsed": false
   },
   "outputs": [
    {
     "data": {
      "image/png": "[encoded data removed]",
      "text/plain": [
       "<matplotlib.figure.Figure at 0x16e040b8>"
      ]
     },
     "metadata": {},
     "output_type": "display_data"
    }
   ],
   "source": [
    "plt.axis('equal');\n",
    "plt.pie( df_summary['price_chg_sign'].groupby(df_summary['price_chg_sign']).count(),\n",
    "        startangle=90,autopct='%1.1f%%',\\\n",
    "        labels =df_summary['price_chg_sign'].groupby(df_summary['price_chg_sign']).count().index );\n",
    "plt.show()"
   ]
  },
  {
   "cell_type": "markdown",
   "metadata": {},
   "source": [
    "It shows almost 50/50 chances for the price changes going up or down in the testing period. "
   ]
  },
  {
   "cell_type": "markdown",
   "metadata": {},
   "source": [
    "How about Orbital Insights measurements?\n",
    "- 102 Downward (-1)\n",
    "- 108 Upward (1)"
   ]
  },
  {
   "cell_type": "code",
   "execution_count": 94,
   "metadata": {
    "collapsed": false
   },
   "outputs": [
    {
     "data": {
      "text/plain": [
       " 1    108\n",
       "-1    102\n",
       "Name: oi_chg_sign, dtype: int64"
      ]
     },
     "execution_count": 94,
     "metadata": {},
     "output_type": "execute_result"
    }
   ],
   "source": [
    "pd.value_counts(df_summary['oi_chg_sign'].astype(int))"
   ]
  },
  {
   "cell_type": "code",
   "execution_count": 95,
   "metadata": {
    "collapsed": false
   },
   "outputs": [
    {
     "data": {
      "image/png": "[encoded data removed]",
      "text/plain": [
       "<matplotlib.figure.Figure at 0x16e046a0>"
      ]
     },
     "metadata": {},
     "output_type": "display_data"
    }
   ],
   "source": [
    "plt.axis('equal');\n",
    "plt.pie( df_summary['oi_chg_sign'].groupby(df_summary['oi_chg_sign']).count(),\n",
    "        startangle=90,autopct='%1.1f%%', \n",
    "        labels =df_summary['oi_chg_sign'].groupby(df_summary['oi_chg_sign']).count().index );\n",
    "plt.show()"
   ]
  },
  {
   "cell_type": "markdown",
   "metadata": {},
   "source": [
    "108 weeks out of 210 show OI average increase, 102 show decrease. It also shows that OI volume.estimate has almost 50/50 chance of increase or decrease. "
   ]
  },
  {
   "cell_type": "markdown",
   "metadata": {},
   "source": [
    "### Direction for OI Data and Settlement Price\n",
    "Does the direction of Orbital Insights and settlement price correspond to each other?"
   ]
  },
  {
   "cell_type": "code",
   "execution_count": 96,
   "metadata": {
    "collapsed": false
   },
   "outputs": [
    {
     "data": {
      "text/plain": [
       " 1    106\n",
       "-1    104\n",
       "Name: dir_compare, dtype: int64"
      ]
     },
     "execution_count": 96,
     "metadata": {},
     "output_type": "execute_result"
    }
   ],
   "source": [
    "pd.value_counts(df_summary['dir_compare'].astype(int))"
   ]
  },
  {
   "cell_type": "code",
   "execution_count": 97,
   "metadata": {
    "collapsed": false
   },
   "outputs": [
    {
     "data": {
      "image/png": "[encoded data removed]",
      "text/plain": [
       "<matplotlib.figure.Figure at 0x1a1cf550>"
      ]
     },
     "metadata": {},
     "output_type": "display_data"
    }
   ],
   "source": [
    "plt.axis('equal');\n",
    "plt.pie( df_summary['dir_compare'].groupby(df_summary['dir_compare']).count(),startangle=90,autopct='%1.1f%%',\n",
    "        labels =df_summary['dir_compare'].groupby(df_summary['dir_compare']).count().index );\n",
    "\n",
    "plt.show()"
   ]
  },
  {
   "cell_type": "code",
   "execution_count": 98,
   "metadata": {
    "collapsed": false
   },
   "outputs": [
    {
     "data": {
      "image/png": "[encoded data removed]",
      "text/plain": [
       "<matplotlib.figure.Figure at 0x19fc7588>"
      ]
     },
     "metadata": {},
     "output_type": "display_data"
    }
   ],
   "source": [
    "fig, axs = plt.subplots(figsize=(5,6));\n",
    "sns.distplot(df_summary['dir_compare'].dropna(), bins=2, kde=False).set_title('Directions in thewith threshold applied');"
   ]
  },
  {
   "cell_type": "markdown",
   "metadata": {},
   "source": [
    "In the dataframe above, we calculated weekly average of Orbital Insight volume estimate and tracked  price changes in 40 days for each week in the testing period. Among 210 weeks in the testing period, 106 show both volume estimate and price change move in the same direction (up or down), 104 show move in opposite direction. It seems it has almost 50/50 (50.5% vs 49.5%, exactly) chance to have price increase or decrease in 40 days regardless of the volume estimate.    "
   ]
  },
  {
   "cell_type": "markdown",
   "metadata": {},
   "source": [
    "# Applying Threshold"
   ]
  },
  {
   "cell_type": "markdown",
   "metadata": {},
   "source": [
    "Continuing the concept further - assume we apply filtering looking for major movements in Orbital Insights volume estimates.  Price changes after the threshold of 0.7% weekly change applied"
   ]
  },
  {
   "cell_type": "code",
   "execution_count": 99,
   "metadata": {
    "collapsed": false
   },
   "outputs": [
    {
     "data": {
      "text/plain": [
       "-0.0    152\n",
       " 1.0     34\n",
       "-1.0     24\n",
       "dtype: int64"
      ]
     },
     "execution_count": 99,
     "metadata": {},
     "output_type": "execute_result"
    }
   ],
   "source": [
    "pd.value_counts(df_summary['threshold_dir'].values)"
   ]
  },
  {
   "cell_type": "code",
   "execution_count": 100,
   "metadata": {
    "collapsed": false
   },
   "outputs": [
    {
     "data": {
      "image/png": "[encoded data removed]",
      "text/plain": [
       "<matplotlib.figure.Figure at 0x1718e828>"
      ]
     },
     "metadata": {},
     "output_type": "display_data"
    }
   ],
   "source": [
    "fig = plt.subplots(figsize=(8,6));\n",
    "sns.distplot(df_summary['threshold_dir'].dropna(), bins=3, kde=False).set_title('Directions with threshold applied');"
   ]
  },
  {
   "cell_type": "code",
   "execution_count": 101,
   "metadata": {
    "collapsed": false
   },
   "outputs": [
    {
     "data": {
      "image/png": "[encoded data removed]",
      "text/plain": [
       "<matplotlib.figure.Figure at 0x16e672b0>"
      ]
     },
     "metadata": {},
     "output_type": "display_data"
    }
   ],
   "source": [
    "plt.axis('equal');\n",
    "plt.pie( df_summary['threshold_dir'].groupby(df_summary['threshold_dir']).count(),startangle=90,autopct='%1.1f%%', \\\n",
    "        labels=df_summary['threshold_dir'].groupby(df_summary['threshold_dir'].astype(int)).count().index);\n",
    "\n",
    "plt.show()"
   ]
  },
  {
   "cell_type": "markdown",
   "metadata": {},
   "source": [
    "Out of 210 weeks in the test period, 152 weeks had volume estimate change less than the threshold. We are more interested in the other 58 weeks with significant changes. "
   ]
  },
  {
   "cell_type": "markdown",
   "metadata": {},
   "source": [
    "35 out of 58 (60%) of the weeks showed the same directions of the changes in volume estimate and crude oil prices.  "
   ]
  },
  {
   "cell_type": "markdown",
   "metadata": {},
   "source": [
    "### Price Changes After Significant Volume Estimate Change"
   ]
  },
  {
   "cell_type": "code",
   "execution_count": 102,
   "metadata": {
    "collapsed": false
   },
   "outputs": [
    {
     "data": {
      "text/plain": [
       " 1.0    34\n",
       "-1.0    24\n",
       "Name: dir_compare, dtype: int64"
      ]
     },
     "execution_count": 102,
     "metadata": {},
     "output_type": "execute_result"
    }
   ],
   "source": [
    "df_threshold = df_summary.loc[df_summary['threshold']==1]\n",
    "pd.value_counts(df_threshold['dir_compare'])"
   ]
  },
  {
   "cell_type": "code",
   "execution_count": 103,
   "metadata": {
    "collapsed": false
   },
   "outputs": [
    {
     "data": {
      "image/png": "[encoded data removed]",
      "text/plain": [
       "<matplotlib.figure.Figure at 0x1a029710>"
      ]
     },
     "metadata": {},
     "output_type": "display_data"
    }
   ],
   "source": [
    "plt.axis('equal');\n",
    "plt.pie( df_threshold['dir_compare'].groupby(df_threshold['dir_compare']).count(),startangle=90,autopct='%1.1f%%', \\\n",
    "        labels = df_threshold['dir_compare'].groupby(df_threshold['dir_compare'].astype(int)).count().index);\n",
    "\n",
    "plt.show()"
   ]
  },
  {
   "cell_type": "markdown",
   "metadata": {},
   "source": [
    "When threshold applied, price tends to move more in the same direction as volume estimate. The ratio moving to the same direction is now about 60% which is 10% increased from no filtering."
   ]
  },
  {
   "cell_type": "code",
   "execution_count": 104,
   "metadata": {
    "collapsed": true
   },
   "outputs": [],
   "source": [
    "df_oi_increase = df_threshold.loc[df_threshold['oi_chg_sign']==1]\n",
    "df_oi_decrease = df_threshold.loc[df_threshold['oi_chg_sign']==-1]"
   ]
  },
  {
   "cell_type": "code",
   "execution_count": 105,
   "metadata": {
    "collapsed": false
   },
   "outputs": [
    {
     "data": {
      "text/plain": [
       " 1    18\n",
       "-1    13\n",
       "Name: dir_compare, dtype: int64"
      ]
     },
     "execution_count": 105,
     "metadata": {},
     "output_type": "execute_result"
    }
   ],
   "source": [
    "# direction comparison when volume estimate increased (1 increase, -1 decrease)\n",
    "pd.value_counts(df_oi_increase['dir_compare'].astype(int))"
   ]
  },
  {
   "cell_type": "code",
   "execution_count": 106,
   "metadata": {
    "collapsed": false
   },
   "outputs": [
    {
     "data": {
      "image/png": "[encoded data removed]",
      "text/plain": [
       "<matplotlib.figure.Figure at 0x19fc6588>"
      ]
     },
     "metadata": {},
     "output_type": "display_data"
    }
   ],
   "source": [
    "plt.axis('equal');\n",
    "plt.pie( df_oi_increase['dir_compare'].groupby(df_oi_increase['dir_compare']).count(),\n",
    "        startangle=90,autopct='%1.1f%%', \n",
    "        labels = df_oi_increase['dir_compare'].groupby(df_oi_increase['dir_compare'].astype(int)).count().index);\n",
    "\n",
    "plt.show()"
   ]
  },
  {
   "cell_type": "code",
   "execution_count": 107,
   "metadata": {
    "collapsed": false
   },
   "outputs": [
    {
     "data": {
      "image/png": "[encoded data removed]",
      "text/plain": [
       "<matplotlib.figure.Figure at 0x1a00cc88>"
      ]
     },
     "metadata": {},
     "output_type": "display_data"
    }
   ],
   "source": [
    "fig, axs = plt.subplots(figsize=(5,6));\n",
    "sns.distplot(df_oi_increase['dir_compare'], \n",
    "             bins=2, \n",
    "             hist_kws={'range':(-1,1)}, kde=False, axlabel='Price change in 40 days, positive/negative')\\\n",
    "                                                                                .set_title('Breakdown1 - when OI increases');\n",
    "\n",
    "axs.set_ylabel('Count');"
   ]
  },
  {
   "cell_type": "markdown",
   "metadata": {},
   "source": [
    "When volume estimate significantly increased, 58.1% of the weeks show price increase in 40 days  "
   ]
  },
  {
   "cell_type": "markdown",
   "metadata": {},
   "source": [
    "31 weeks showed significant storage volume increase. 18 followed by price increase (same direction) and 13 followed by decrease (opposite direction)."
   ]
  },
  {
   "cell_type": "code",
   "execution_count": 108,
   "metadata": {
    "collapsed": false
   },
   "outputs": [
    {
     "data": {
      "text/plain": [
       " 1    16\n",
       "-1    11\n",
       "Name: dir_compare, dtype: int64"
      ]
     },
     "execution_count": 108,
     "metadata": {},
     "output_type": "execute_result"
    }
   ],
   "source": [
    "# direction comparison when volume estimate decreased\n",
    "pd.value_counts(df_oi_decrease['dir_compare'].astype(int))"
   ]
  },
  {
   "cell_type": "code",
   "execution_count": 109,
   "metadata": {
    "collapsed": false
   },
   "outputs": [
    {
     "data": {
      "image/png": "[encoded data removed]",
      "text/plain": [
       "<matplotlib.figure.Figure at 0x1a614240>"
      ]
     },
     "metadata": {},
     "output_type": "display_data"
    }
   ],
   "source": [
    "plt.axis('equal');\n",
    "plt.pie( df_oi_decrease['dir_compare'].groupby(df_oi_decrease['dir_compare']).count(),\n",
    "        startangle=90,autopct='%1.1f%%', \n",
    "        labels = df_oi_decrease['dir_compare'].groupby(df_oi_decrease['dir_compare'].astype(int)).count().index)\n",
    "\n",
    "plt.show()"
   ]
  },
  {
   "cell_type": "code",
   "execution_count": 110,
   "metadata": {
    "collapsed": false
   },
   "outputs": [
    {
     "data": {
      "image/png": "[encoded data removed]",
      "text/plain": [
       "<matplotlib.figure.Figure at 0x19e8b4a8>"
      ]
     },
     "metadata": {},
     "output_type": "display_data"
    }
   ],
   "source": [
    "fig, axs = plt.subplots(figsize=(5,6));\n",
    "sns.distplot(df_oi_decrease['dir_compare'], \n",
    "             bins=2, \n",
    "             hist_kws={'range':(-1,1)}, kde=False, axlabel='Price change in 40 days, positive/negative')\\\n",
    "                                                                                .set_title('Breakdown2 - when OI decreases');\n",
    "\n",
    "axs.set_ylabel('Count');"
   ]
  },
  {
   "cell_type": "markdown",
   "metadata": {},
   "source": [
    "When volume estimate significantly decreased, 59.3% of the weeks show price decrease in 40 days "
   ]
  },
  {
   "cell_type": "markdown",
   "metadata": {},
   "source": [
    "27 weeks showed significant storage volume decrease. 16 followed by price decrease (same direction) and 11 followed by increase (opposite direction)."
   ]
  },
  {
   "cell_type": "markdown",
   "metadata": {},
   "source": [
    "## Conclusion"
   ]
  },
  {
   "cell_type": "markdown",
   "metadata": {},
   "source": [
    "Crude oil futures prices are determined by various factors; storage volume is not the only factor affecting the price. However, storage volume is still one of the important factors to oil pricing and reflects information about cost of storage and oil price itself. Orbital Insight provides detailed daily volume estimates and storage capacity across more than 25,000 tanks globally.  "
   ]
  },
  {
   "cell_type": "code",
   "execution_count": null,
   "metadata": {
    "collapsed": true
   },
   "outputs": [],
   "source": []
  }
 ],
 "metadata": {
  "kernelspec": {
   "display_name": "Python 2",
   "language": "python",
   "name": "python2"
  },
  "language_info": {
   "codemirror_mode": {
    "name": "ipython",
    "version": 2
   },
   "file_extension": ".py",
   "mimetype": "text/x-python",
   "name": "python",
   "nbconvert_exporter": "python",
   "pygments_lexer": "ipython2",
   "version": "2.7.12"
  }
 },
 "nbformat": 4,
 "nbformat_minor": 2
}
